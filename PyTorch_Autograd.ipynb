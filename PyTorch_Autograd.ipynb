{
  "nbformat": 4,
  "nbformat_minor": 0,
  "metadata": {
    "colab": {
      "name": "PyTorch_Autograd.ipynb",
      "provenance": [],
      "authorship_tag": "ABX9TyNLRid4prXeM/oxvRTtRDxA",
      "include_colab_link": true
    },
    "kernelspec": {
      "name": "python3",
      "display_name": "Python 3"
    },
    "language_info": {
      "name": "python"
    }
  },
  "cells": [
    {
      "cell_type": "markdown",
      "metadata": {
        "id": "view-in-github",
        "colab_type": "text"
      },
      "source": [
        "<a href=\"https://colab.research.google.com/github/veranika-izrailyan/Machine_Learning/blob/main/PyTorch_Autograd.ipynb\" target=\"_parent\"><img src=\"https://colab.research.google.com/assets/colab-badge.svg\" alt=\"Open In Colab\"/></a>"
      ]
    },
    {
      "cell_type": "markdown",
      "source": [
        "**The Autograd Module**"
      ],
      "metadata": {
        "id": "mEkuQ39R9fbu"
      }
    },
    {
      "cell_type": "markdown",
      "source": [
        "\n",
        "\n",
        "*   **Forward Propagation**\n",
        "      Compute the loss based on inputs\n",
        "*   **Backward Propagation**\n",
        "      Compute the gradient of the cost function wrt the inputs\n",
        "\n",
        "\n"
      ],
      "metadata": {
        "id": "oQhiV9_t9pY0"
      }
    },
    {
      "cell_type": "code",
      "source": [
        "import torch"
      ],
      "metadata": {
        "id": "kXX9psko-CyC"
      },
      "execution_count": 1,
      "outputs": []
    },
    {
      "cell_type": "code",
      "source": [
        "x = torch.tensor([-1.2365, 1.8245, -1.0701, 0.0869, -0.0376])"
      ],
      "metadata": {
        "id": "YhZVCNsc-fj9"
      },
      "execution_count": 3,
      "outputs": []
    },
    {
      "cell_type": "code",
      "source": [
        "loss = x**2 - 5"
      ],
      "metadata": {
        "id": "OySQMppc-xsd"
      },
      "execution_count": 4,
      "outputs": []
    },
    {
      "cell_type": "code",
      "source": [
        "# forward propagation\n",
        "loss"
      ],
      "metadata": {
        "colab": {
          "base_uri": "https://localhost:8080/"
        },
        "id": "fcLQiiFN-0l6",
        "outputId": "b7686dfd-fc27-47ee-8ae7-741b4fb9b1a5"
      },
      "execution_count": 6,
      "outputs": [
        {
          "output_type": "execute_result",
          "data": {
            "text/plain": [
              "tensor([-3.4711, -1.6712, -3.8549, -4.9924, -4.9986])"
            ]
          },
          "metadata": {},
          "execution_count": 6
        }
      ]
    },
    {
      "cell_type": "code",
      "source": [
        "# backward\n",
        "\n",
        "x = torch.tensor([-1.2365, 1.8245, -1.0701, 0.0869, -0.0376], requires_grad=True)"
      ],
      "metadata": {
        "id": "RhfaKwtE_GH9"
      },
      "execution_count": 7,
      "outputs": []
    },
    {
      "cell_type": "code",
      "source": [
        "loss = x**2 - 5\n",
        "loss"
      ],
      "metadata": {
        "colab": {
          "base_uri": "https://localhost:8080/"
        },
        "id": "Vs2A6h1N_ypS",
        "outputId": "58d540f3-52ce-4c50-b84b-2018cb1517f7"
      },
      "execution_count": 8,
      "outputs": [
        {
          "output_type": "execute_result",
          "data": {
            "text/plain": [
              "tensor([-3.4711, -1.6712, -3.8549, -4.9924, -4.9986], grad_fn=<SubBackward0>)"
            ]
          },
          "metadata": {},
          "execution_count": 8
        }
      ]
    },
    {
      "cell_type": "code",
      "source": [
        "loss.grad_fn"
      ],
      "metadata": {
        "colab": {
          "base_uri": "https://localhost:8080/"
        },
        "id": "cRcNpEcvAEMt",
        "outputId": "6427e7bc-c71d-414e-84ae-77acbce1dec2"
      },
      "execution_count": 9,
      "outputs": [
        {
          "output_type": "execute_result",
          "data": {
            "text/plain": [
              "<SubBackward0 at 0x7fd7ee6abdd0>"
            ]
          },
          "metadata": {},
          "execution_count": 9
        }
      ]
    },
    {
      "cell_type": "code",
      "source": [
        "# Computing the gradient\n",
        "\n",
        "loss.backward(gradient=torch.ones(5))"
      ],
      "metadata": {
        "id": "s7E6UTXzAIdI"
      },
      "execution_count": 10,
      "outputs": []
    },
    {
      "cell_type": "code",
      "source": [
        "x.grad"
      ],
      "metadata": {
        "colab": {
          "base_uri": "https://localhost:8080/"
        },
        "id": "dkhLqmgYAZXy",
        "outputId": "0d8409d5-7e2f-47cc-b5e6-c73efe8fb41d"
      },
      "execution_count": 11,
      "outputs": [
        {
          "output_type": "execute_result",
          "data": {
            "text/plain": [
              "tensor([-2.4730,  3.6490, -2.1402,  0.1738, -0.0752])"
            ]
          },
          "metadata": {},
          "execution_count": 11
        }
      ]
    },
    {
      "cell_type": "code",
      "source": [
        "2 * x"
      ],
      "metadata": {
        "colab": {
          "base_uri": "https://localhost:8080/"
        },
        "id": "WlCW6snpAfPS",
        "outputId": "9ffee121-17aa-499d-ea44-9a2d6ebb4fd1"
      },
      "execution_count": 12,
      "outputs": [
        {
          "output_type": "execute_result",
          "data": {
            "text/plain": [
              "tensor([-2.4730,  3.6490, -2.1402,  0.1738, -0.0752], grad_fn=<MulBackward0>)"
            ]
          },
          "metadata": {},
          "execution_count": 12
        }
      ]
    },
    {
      "cell_type": "code",
      "source": [
        "# preventing PyTorch from keeping the history of gradients\n",
        "\n",
        "a = torch.rand(2,2, requires_grad=True)\n",
        "\n",
        "b = a.detach()\n",
        "b.requires_grad\n"
      ],
      "metadata": {
        "colab": {
          "base_uri": "https://localhost:8080/"
        },
        "id": "DS7gRdagA020",
        "outputId": "e8a2f654-66ec-4b8c-d321-0f0956694bf4"
      },
      "execution_count": 14,
      "outputs": [
        {
          "output_type": "execute_result",
          "data": {
            "text/plain": [
              "False"
            ]
          },
          "metadata": {},
          "execution_count": 14
        }
      ]
    },
    {
      "cell_type": "code",
      "source": [
        "# or\n",
        "c = torch.rand(2,2, requires_grad=True)\n",
        "\n",
        "with torch.no_grad():\n",
        "  loss = c**2\n",
        "  print(loss.requires_grad)"
      ],
      "metadata": {
        "colab": {
          "base_uri": "https://localhost:8080/"
        },
        "id": "nqL4LAnJBcNg",
        "outputId": "655c3c60-d148-4071-8407-b022a2a2607f"
      },
      "execution_count": 15,
      "outputs": [
        {
          "output_type": "stream",
          "name": "stdout",
          "text": [
            "False\n"
          ]
        }
      ]
    }
  ]
}