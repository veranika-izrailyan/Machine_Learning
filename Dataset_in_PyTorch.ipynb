{
  "nbformat": 4,
  "nbformat_minor": 0,
  "metadata": {
    "colab": {
      "name": "Dataset_in_PyTorch.ipynb",
      "provenance": [],
      "authorship_tag": "ABX9TyNIOFg5RLfhG/7O45KWfa90",
      "include_colab_link": true
    },
    "kernelspec": {
      "name": "python3",
      "display_name": "Python 3"
    },
    "language_info": {
      "name": "python"
    }
  },
  "cells": [
    {
      "cell_type": "markdown",
      "metadata": {
        "id": "view-in-github",
        "colab_type": "text"
      },
      "source": [
        "<a href=\"https://colab.research.google.com/github/veranika-izrailyan/Machine_Learning/blob/main/Dataset_in_PyTorch.ipynb\" target=\"_parent\"><img src=\"https://colab.research.google.com/assets/colab-badge.svg\" alt=\"Open In Colab\"/></a>"
      ]
    },
    {
      "cell_type": "code",
      "execution_count": 1,
      "metadata": {
        "id": "CYuH2URnitm6"
      },
      "outputs": [],
      "source": [
        "import torch"
      ]
    },
    {
      "cell_type": "code",
      "source": [
        "from torch.utils.data import Dataset\n",
        "\n",
        "class CustomDataset(Dataset):\n",
        "  def __init__(self,X,y):\n",
        "    self.X = X\n",
        "    self.y = y\n",
        "  def __len__(self):\n",
        "    \"\"\"\n",
        "    Returns the total number of samples available in our dataset\n",
        "    \"\"\"\n",
        "    return len(self.X)\n",
        "  def __getitem__(self, idx):\n",
        "    \"\"\"\n",
        "    Retruns a sample of data at precise idx\n",
        "    \"\"\"\n",
        "    return(self.X[idx], self.y[idx])"
      ],
      "metadata": {
        "id": "W02dHoQfkBs9"
      },
      "execution_count": 4,
      "outputs": []
    },
    {
      "cell_type": "code",
      "source": [
        "from sklearn.datasets import make_classification"
      ],
      "metadata": {
        "id": "OWJA1fvllK7s"
      },
      "execution_count": 7,
      "outputs": []
    },
    {
      "cell_type": "code",
      "source": [
        "data, target = make_classification(n_samples=1000, n_features=5)\n",
        "custom_dataset = CustomDataset(X=data, y=target)\n",
        "len(custom_dataset)"
      ],
      "metadata": {
        "colab": {
          "base_uri": "https://localhost:8080/"
        },
        "id": "RyrfcGkelwB7",
        "outputId": "1b757f07-8d50-41bd-ccfe-3339eefd2f46"
      },
      "execution_count": 8,
      "outputs": [
        {
          "output_type": "execute_result",
          "data": {
            "text/plain": [
              "1000"
            ]
          },
          "metadata": {},
          "execution_count": 8
        }
      ]
    },
    {
      "cell_type": "code",
      "source": [
        "custom_dataset[0]"
      ],
      "metadata": {
        "colab": {
          "base_uri": "https://localhost:8080/"
        },
        "id": "_qf4S52GmXVD",
        "outputId": "49580416-639b-4ad2-d680-1bed5ee39417"
      },
      "execution_count": 9,
      "outputs": [
        {
          "output_type": "execute_result",
          "data": {
            "text/plain": [
              "(array([-2.19141143, -0.43760535,  0.09458157,  1.32587649, -0.90073051]), 0)"
            ]
          },
          "metadata": {},
          "execution_count": 9
        }
      ]
    },
    {
      "cell_type": "code",
      "source": [
        "data[0]"
      ],
      "metadata": {
        "colab": {
          "base_uri": "https://localhost:8080/"
        },
        "id": "_PWise5ymbRC",
        "outputId": "ebdd3e65-92af-42b7-d73f-5de7585ca3bd"
      },
      "execution_count": 10,
      "outputs": [
        {
          "output_type": "execute_result",
          "data": {
            "text/plain": [
              "array([-2.19141143, -0.43760535,  0.09458157,  1.32587649, -0.90073051])"
            ]
          },
          "metadata": {},
          "execution_count": 10
        }
      ]
    },
    {
      "cell_type": "code",
      "source": [
        "custom_dataset[0][0].shape"
      ],
      "metadata": {
        "colab": {
          "base_uri": "https://localhost:8080/"
        },
        "id": "Yt9xJXFXmqcY",
        "outputId": "b5a1ed7c-59a7-4fb0-f467-4b7dce6123d0"
      },
      "execution_count": 11,
      "outputs": [
        {
          "output_type": "execute_result",
          "data": {
            "text/plain": [
              "(5,)"
            ]
          },
          "metadata": {},
          "execution_count": 11
        }
      ]
    },
    {
      "cell_type": "code",
      "source": [
        "from sklearn.datasets import make_multilabel_classification\n",
        "\n",
        "data, target = make_multilabel_classification(n_samples=1000, n_features=5, n_classes=3)"
      ],
      "metadata": {
        "id": "bGmK_omKnHO6"
      },
      "execution_count": 14,
      "outputs": []
    },
    {
      "cell_type": "code",
      "source": [
        "custom_dataset_mlb=CustomDataset(X=data, y=target)"
      ],
      "metadata": {
        "id": "b_6TT60rnYzt"
      },
      "execution_count": 15,
      "outputs": []
    },
    {
      "cell_type": "code",
      "source": [
        "custom_dataset_mlb[0]"
      ],
      "metadata": {
        "colab": {
          "base_uri": "https://localhost:8080/"
        },
        "id": "qdh8G6sSnt0L",
        "outputId": "17ad960e-2e62-4851-8f66-dba45871721d"
      },
      "execution_count": 16,
      "outputs": [
        {
          "output_type": "execute_result",
          "data": {
            "text/plain": [
              "(array([ 2.,  6.,  3.,  2., 28.]), array([0, 1, 1]))"
            ]
          },
          "metadata": {},
          "execution_count": 16
        }
      ]
    },
    {
      "cell_type": "code",
      "source": [
        "custom_dataset_mlb[3]"
      ],
      "metadata": {
        "colab": {
          "base_uri": "https://localhost:8080/"
        },
        "id": "_411Re5GoEuH",
        "outputId": "06ff9431-3009-482d-99f6-6c4609ae3b2b"
      },
      "execution_count": 20,
      "outputs": [
        {
          "output_type": "execute_result",
          "data": {
            "text/plain": [
              "(array([ 5., 19.,  0.,  7., 22.]), array([0, 0, 1]))"
            ]
          },
          "metadata": {},
          "execution_count": 20
        }
      ]
    },
    {
      "cell_type": "code",
      "source": [
        "from torch.utils.data import DataLoader"
      ],
      "metadata": {
        "id": "xMBuq2d2opgR"
      },
      "execution_count": 21,
      "outputs": []
    },
    {
      "cell_type": "code",
      "source": [
        "data_loader=DataLoader(dataset=custom_dataset, batch_size=8, shuffle=True)"
      ],
      "metadata": {
        "id": "_y0idOSfowne"
      },
      "execution_count": 22,
      "outputs": []
    },
    {
      "cell_type": "code",
      "source": [
        "custom_dataset[0]"
      ],
      "metadata": {
        "colab": {
          "base_uri": "https://localhost:8080/"
        },
        "id": "5OJWX25Oo6rv",
        "outputId": "a39682ff-0bd0-4872-8952-58fbea6b0488"
      },
      "execution_count": 23,
      "outputs": [
        {
          "output_type": "execute_result",
          "data": {
            "text/plain": [
              "(array([-2.19141143, -0.43760535,  0.09458157,  1.32587649, -0.90073051]), 0)"
            ]
          },
          "metadata": {},
          "execution_count": 23
        }
      ]
    },
    {
      "cell_type": "code",
      "source": [
        "data_iter = iter(data_loader)\n",
        "data_iter"
      ],
      "metadata": {
        "colab": {
          "base_uri": "https://localhost:8080/"
        },
        "id": "qnLemXdkpeHy",
        "outputId": "ca3e8fc9-ac7a-4625-e5a5-f47438462218"
      },
      "execution_count": 24,
      "outputs": [
        {
          "output_type": "execute_result",
          "data": {
            "text/plain": [
              "<torch.utils.data.dataloader._SingleProcessDataLoaderIter at 0x7fe8f56195d0>"
            ]
          },
          "metadata": {},
          "execution_count": 24
        }
      ]
    },
    {
      "cell_type": "code",
      "source": [
        "data_02 = data_iter.next()"
      ],
      "metadata": {
        "id": "CbXafa_GpoRs"
      },
      "execution_count": 25,
      "outputs": []
    },
    {
      "cell_type": "code",
      "source": [
        "features_02, target_02 =data_02"
      ],
      "metadata": {
        "id": "i8whGv1ap5f7"
      },
      "execution_count": 28,
      "outputs": []
    },
    {
      "cell_type": "code",
      "source": [
        "features_02"
      ],
      "metadata": {
        "colab": {
          "base_uri": "https://localhost:8080/"
        },
        "id": "WykyUDpop8tf",
        "outputId": "5a2eb6e1-f991-4b4f-d9bf-67bece735754"
      },
      "execution_count": 29,
      "outputs": [
        {
          "output_type": "execute_result",
          "data": {
            "text/plain": [
              "tensor([[-2.0834, -0.4018,  0.0722,  1.2535,  1.7245],\n",
              "        [ 0.6348,  2.1605, -2.5603, -1.3914, -1.1247],\n",
              "        [ 3.0971,  2.9294, -3.0118, -3.0184,  0.0259],\n",
              "        [-3.2877, -1.6333,  1.3584,  2.4730,  0.6665],\n",
              "        [ 1.0779, -0.2503,  0.5333, -0.4216, -0.6411],\n",
              "        [ 2.8924,  2.6281, -2.6786, -2.7656, -0.5310],\n",
              "        [ 2.2269,  1.6585, -1.6079, -1.9486, -0.6088],\n",
              "        [ 1.0928, -1.0025,  1.4731, -0.0565, -1.2280]], dtype=torch.float64)"
            ]
          },
          "metadata": {},
          "execution_count": 29
        }
      ]
    }
  ]
}