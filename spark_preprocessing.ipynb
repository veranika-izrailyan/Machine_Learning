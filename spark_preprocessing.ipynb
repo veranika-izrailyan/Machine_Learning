{
  "cells": [
    {
      "cell_type": "markdown",
      "metadata": {
        "id": "view-in-github",
        "colab_type": "text"
      },
      "source": [
        "<a href=\"https://colab.research.google.com/github/veranika-izrailyan/Machine_Learning/blob/main/spark_preprocessing.ipynb\" target=\"_parent\"><img src=\"https://colab.research.google.com/assets/colab-badge.svg\" alt=\"Open In Colab\"/></a>"
      ]
    },
    {
      "cell_type": "markdown",
      "metadata": {
        "id": "a1hltZ4m60q1"
      },
      "source": [
        "# Pyspark - Preprocessing\n",
        "\n",
        "#### Description\n",
        "In this Hands-on lab, you will master your knowledge on PySpark, a very popular Python library for big data analysis and modeling. Here, you will learn how to create a dataset using the PySpark library, and to manipulate it using standard filtering and slicing techniques.\n",
        "\n",
        "Your data management skills will be challenged, and by the end of this lab, you should have a deep understanding of how PySpark practically works to build data analysis pipelines.\n",
        "\n",
        "\n",
        "\n",
        "#### Learning Objectives\n",
        "Upon completion of this lab you will be able to:\n",
        "\n",
        "- create a Spark Session, and store the data into a Spark DataFrame;\n",
        "- query data with PySpark using standard SQL;\n",
        "- create a new column inside the Spark DataFrame;\n",
        "- perform standard data cleaning - type consistency, filtering, slicing;\n",
        "- pivoting and manipulating a Spark DataFrame.\n",
        "\n",
        "#### Intended Audience\n",
        "This lab is intended for:\n",
        " - Those interested in performing data analysis with Python.\n",
        " - Anyone involved in data science and engineering pipelines.\n",
        "\n",
        "#### Prerequisites\n",
        "You should possess:\n",
        " - An intermediate understanding of Python.\n",
        " - Basic knowledge of SQL.\n",
        " - Basic knowledge of the following libraries: Pandas.\n",
        "\n"
      ]
    },
    {
      "cell_type": "code",
      "execution_count": null,
      "metadata": {
        "colab": {
          "base_uri": "https://localhost:8080/"
        },
        "id": "-KXsYhrPw88g",
        "outputId": "82bb79b4-b1fc-4ba7-89e5-3e58cd32a017"
      },
      "outputs": [
        {
          "name": "stdout",
          "output_type": "stream",
          "text": [
            "openjdk-8-jdk-headless is already the newest version (8u312-b07-1~deb9u1).\n",
            "0 upgraded, 0 newly installed, 0 to remove and 0 not upgraded.\n"
          ]
        }
      ],
      "source": [
        "# !pip install -U -q PyDrive\n",
        "!apt install openjdk-8-jdk-headless -qq"
      ]
    },
    {
      "cell_type": "code",
      "execution_count": null,
      "metadata": {
        "id": "lgtGKySmBD0W"
      },
      "outputs": [],
      "source": [
        "import os\n",
        "os.environ[\"JAVA_HOME\"] = \"/usr/lib/jvm/java-8-openjdk-amd64\""
      ]
    },
    {
      "cell_type": "markdown",
      "metadata": {
        "id": "H3XVg8dhu4Ii"
      },
      "source": [
        "### Initialize a SparkSession"
      ]
    },
    {
      "cell_type": "markdown",
      "metadata": {
        "id": "ATiOEKEwp6B_"
      },
      "source": [
        "Let's introduce a very important object in `pyspark`: the `SparkSession`. The Spark Session is a unified entry point of a spark application from Spark 2.0. Before its introduction, the `SparkContext` was the entry point of any spark application, and needed a `SparkConf`, which had all the cluster configs and parameters to create a Spark Context object. "
      ]
    },
    {
      "cell_type": "markdown",
      "metadata": {
        "id": "InrpJmuArRM8"
      },
      "source": [
        "We therefore import from the Spark SQL submodule the `SparkSession` class, and we instantiate a session using the `getOrCreate` method."
      ]
    },
    {
      "cell_type": "code",
      "execution_count": null,
      "metadata": {
        "id": "btlEFBq-xpiG"
      },
      "outputs": [],
      "source": [
        "# from pyspark import SparkContext, SparkConf\n",
        "from pyspark.sql import SparkSession\n",
        "\n",
        "# conf = SparkConf().set(\"spark.ui.port\", \"4050\")\n",
        "# sc = SparkContext(conf=conf)\n",
        "spark = SparkSession.builder.getOrCreate()"
      ]
    },
    {
      "cell_type": "markdown",
      "metadata": {
        "id": "XB9B5y2sq-nG"
      },
      "source": [
        "Spark SQL provides `spark.read().csv(\"file_name\")` to read a file or directory of files in CSV format into Spark DataFrame: let's use this method to ingest our dataset. We specify `header=True` to import the first row inside the csv as the header of the spark dataframe."
      ]
    },
    {
      "cell_type": "code",
      "execution_count": null,
      "metadata": {
        "colab": {
          "base_uri": "https://localhost:8080/"
        },
        "id": "M-WgrQLlzmyt",
        "outputId": "919fbd57-c5f6-43a0-d2a3-c538e7e3a42e"
      },
      "outputs": [
        {
          "name": "stdout",
          "output_type": "stream",
          "text": [
            "+----------+----+------+------+---+------+----+\n",
            "|total_bill| tip|   sex|smoker|day|  time|size|\n",
            "+----------+----+------+------+---+------+----+\n",
            "|     16.99|1.01|Female|    No|Sun|Dinner|   2|\n",
            "|     10.34|1.66|  Male|    No|Sun|Dinner|   3|\n",
            "|     21.01| 3.5|  Male|    No|Sun|Dinner|   3|\n",
            "|     23.68|3.31|  Male|    No|Sun|Dinner|   2|\n",
            "|     24.59|3.61|Female|    No|Sun|Dinner|   4|\n",
            "|     25.29|4.71|  Male|    No|Sun|Dinner|   4|\n",
            "|      8.77|   2|  Male|    No|Sun|Dinner|   2|\n",
            "|     26.88|3.12|  Male|    No|Sun|Dinner|   4|\n",
            "|     15.04|1.96|  Male|    No|Sun|Dinner|   2|\n",
            "|     14.78|3.23|  Male|    No|Sun|Dinner|   2|\n",
            "|     10.27|1.71|  Male|    No|Sun|Dinner|   2|\n",
            "|     35.26|   5|Female|    No|Sun|Dinner|   4|\n",
            "|     15.42|1.57|  Male|    No|Sun|Dinner|   2|\n",
            "|     18.43|   3|  Male|    No|Sun|Dinner|   4|\n",
            "|     14.83|3.02|Female|    No|Sun|Dinner|   2|\n",
            "|     21.58|3.92|  Male|    No|Sun|Dinner|   2|\n",
            "|     10.33|1.67|Female|    No|Sun|Dinner|   3|\n",
            "|     16.29|3.71|  Male|    No|Sun|Dinner|   3|\n",
            "|     16.97| 3.5|Female|    No|Sun|Dinner|   3|\n",
            "|     20.65|3.35|  Male|    No|Sat|Dinner|   3|\n",
            "+----------+----+------+------+---+------+----+\n",
            "only showing top 20 rows\n",
            "\n"
          ]
        }
      ],
      "source": [
        "file_path = \"data/tips.csv\"\n",
        "tips = spark.read.csv(file_path, header=True)\n",
        "tips.show()"
      ]
    },
    {
      "cell_type": "code",
      "execution_count": null,
      "metadata": {
        "colab": {
          "base_uri": "https://localhost:8080/"
        },
        "id": "eV-SSrNcXrH9",
        "outputId": "a84ab6f6-c7f2-4482-adc9-7fc0c3c9757d"
      },
      "outputs": [
        {
          "data": {
            "text/plain": [
              "pyspark.sql.dataframe.DataFrame"
            ]
          },
          "execution_count": 5,
          "metadata": {},
          "output_type": "execute_result"
        }
      ],
      "source": [
        "type(tips)"
      ]
    },
    {
      "cell_type": "markdown",
      "metadata": {
        "id": "NPlq87sguugm"
      },
      "source": [
        "As we can see, a simple inspection of the `tips` object confirms we are dealing with a Spark DataFrame."
      ]
    },
    {
      "cell_type": "markdown",
      "metadata": {
        "id": "mpHLACDQsWI-"
      },
      "source": [
        "Sound's good. But we are missing a crucial aspect, which can be explained as follows. Technically speaking, a Spark DataFrame is conceptually equivalent to a table in a relational database, and it is frequent to use this definition to identify a Spark DataFrame. In particular, Spark tables can be of two types. Temporary or Permanent. Both of these tables are present in a database. If we don’t specify any database, Spark uses the `default` database. We can see the list of available databases with `listDatabases`\n",
        "\n",
        "\n"
      ]
    },
    {
      "cell_type": "code",
      "execution_count": null,
      "metadata": {
        "colab": {
          "base_uri": "https://localhost:8080/"
        },
        "id": "5xJmxZMmtfcB",
        "outputId": "4278c34e-6122-4c15-f095-0fce00171ec7"
      },
      "outputs": [
        {
          "data": {
            "text/plain": [
              "[Database(name='default', description='default database', locationUri='file:/home/project/spark-warehouse')]"
            ]
          },
          "execution_count": 6,
          "metadata": {},
          "output_type": "execute_result"
        }
      ],
      "source": [
        "spark.catalog.listDatabases()"
      ]
    },
    {
      "cell_type": "markdown",
      "metadata": {
        "id": "vVRJSismuUwb"
      },
      "source": [
        "If we inspect the available Tables, we easily see that there are not tables available."
      ]
    },
    {
      "cell_type": "code",
      "execution_count": null,
      "metadata": {
        "colab": {
          "base_uri": "https://localhost:8080/"
        },
        "id": "iS1ZkZvlt9bj",
        "outputId": "02f0f116-e967-471d-f723-afdd5dd776c8"
      },
      "outputs": [
        {
          "data": {
            "text/plain": [
              "[]"
            ]
          },
          "execution_count": 7,
          "metadata": {},
          "output_type": "execute_result"
        }
      ],
      "source": [
        "spark.catalog.listTables('default')"
      ]
    },
    {
      "cell_type": "markdown",
      "metadata": {
        "id": "3Aex6l-Xub5V"
      },
      "source": [
        "To create a table in the default database, we use the `createOrReplaceTempView` method"
      ]
    },
    {
      "cell_type": "code",
      "execution_count": null,
      "metadata": {
        "id": "2E1g6x4pwy24"
      },
      "outputs": [],
      "source": [
        "tips.createOrReplaceTempView(\"tips\") # Add tips data to the catalog"
      ]
    },
    {
      "cell_type": "code",
      "execution_count": null,
      "metadata": {
        "colab": {
          "base_uri": "https://localhost:8080/"
        },
        "id": "OQY5kVdtuk1d",
        "outputId": "202c7e3b-ea8b-4a1e-c619-303259013881"
      },
      "outputs": [
        {
          "data": {
            "text/plain": [
              "[Table(name='tips', database=None, description=None, tableType='TEMPORARY', isTemporary=True)]"
            ]
          },
          "execution_count": 9,
          "metadata": {},
          "output_type": "execute_result"
        }
      ],
      "source": [
        "spark.catalog.listTables()"
      ]
    },
    {
      "cell_type": "markdown",
      "metadata": {
        "id": "yNrch0mQu0Fl"
      },
      "source": [
        "### Querying data with PySpark"
      ]
    },
    {
      "cell_type": "markdown",
      "metadata": {
        "id": "AwHeIIHWxAz2"
      },
      "source": [
        "The nice thing of Spark table is that we can run any query with standard SQL. So, for instance, suppose we wish to inspect the first 10 rows of the `tips` table. In standard SQL, this translates into the following query:"
      ]
    },
    {
      "cell_type": "code",
      "execution_count": null,
      "metadata": {
        "id": "1x_zCoeGvDVi"
      },
      "outputs": [],
      "source": [
        "QUERY_TIPS = \"FROM tips SELECT * LIMIT 10\""
      ]
    },
    {
      "cell_type": "markdown",
      "metadata": {
        "id": "U78Wv0mDxOfy"
      },
      "source": [
        "we can now pass the query into the `sql` module, as follows:"
      ]
    },
    {
      "cell_type": "code",
      "execution_count": null,
      "metadata": {
        "colab": {
          "base_uri": "https://localhost:8080/"
        },
        "id": "1KnlCQTkzjuP",
        "outputId": "77292b60-99c1-4927-a770-e55075ccee6a"
      },
      "outputs": [
        {
          "name": "stdout",
          "output_type": "stream",
          "text": [
            "+----------+----+------+------+---+------+----+\n",
            "|total_bill| tip|   sex|smoker|day|  time|size|\n",
            "+----------+----+------+------+---+------+----+\n",
            "|     16.99|1.01|Female|    No|Sun|Dinner|   2|\n",
            "|     10.34|1.66|  Male|    No|Sun|Dinner|   3|\n",
            "|     21.01| 3.5|  Male|    No|Sun|Dinner|   3|\n",
            "|     23.68|3.31|  Male|    No|Sun|Dinner|   2|\n",
            "|     24.59|3.61|Female|    No|Sun|Dinner|   4|\n",
            "|     25.29|4.71|  Male|    No|Sun|Dinner|   4|\n",
            "|      8.77|   2|  Male|    No|Sun|Dinner|   2|\n",
            "|     26.88|3.12|  Male|    No|Sun|Dinner|   4|\n",
            "|     15.04|1.96|  Male|    No|Sun|Dinner|   2|\n",
            "|     14.78|3.23|  Male|    No|Sun|Dinner|   2|\n",
            "+----------+----+------+------+---+------+----+\n",
            "\n"
          ]
        }
      ],
      "source": [
        "tips10 = spark.sql(QUERY_TIPS)\n",
        "tips10.show()"
      ]
    },
    {
      "cell_type": "markdown",
      "metadata": {
        "id": "02b0gbJ7xwlS"
      },
      "source": [
        "There is a nice interaction between a Spark DataFrame (or table) and a Pandas DataFrame: indeed we can convert a Spark table into a Pandas DataFrame using the `toPandas` funciton. This can be useful, especially for data scientist who wish to use pandas in case they need  to perform further advanced manipualtions or simply to ingest in a more complex Python pipeline."
      ]
    },
    {
      "cell_type": "code",
      "execution_count": null,
      "metadata": {
        "colab": {
          "base_uri": "https://localhost:8080/",
          "height": 359
        },
        "id": "yedGIkZAzRHA",
        "outputId": "2ce60682-9932-4b84-8bcc-54a7a8bfa2ef"
      },
      "outputs": [
        {
          "data": {
            "text/html": [
              "<div>\n",
              "<style scoped>\n",
              "    .dataframe tbody tr th:only-of-type {\n",
              "        vertical-align: middle;\n",
              "    }\n",
              "\n",
              "    .dataframe tbody tr th {\n",
              "        vertical-align: top;\n",
              "    }\n",
              "\n",
              "    .dataframe thead th {\n",
              "        text-align: right;\n",
              "    }\n",
              "</style>\n",
              "<table border=\"1\" class=\"dataframe\">\n",
              "  <thead>\n",
              "    <tr style=\"text-align: right;\">\n",
              "      <th></th>\n",
              "      <th>total_bill</th>\n",
              "      <th>tip</th>\n",
              "      <th>sex</th>\n",
              "      <th>smoker</th>\n",
              "      <th>day</th>\n",
              "      <th>time</th>\n",
              "      <th>size</th>\n",
              "    </tr>\n",
              "  </thead>\n",
              "  <tbody>\n",
              "    <tr>\n",
              "      <th>0</th>\n",
              "      <td>16.99</td>\n",
              "      <td>1.01</td>\n",
              "      <td>Female</td>\n",
              "      <td>No</td>\n",
              "      <td>Sun</td>\n",
              "      <td>Dinner</td>\n",
              "      <td>2</td>\n",
              "    </tr>\n",
              "    <tr>\n",
              "      <th>1</th>\n",
              "      <td>10.34</td>\n",
              "      <td>1.66</td>\n",
              "      <td>Male</td>\n",
              "      <td>No</td>\n",
              "      <td>Sun</td>\n",
              "      <td>Dinner</td>\n",
              "      <td>3</td>\n",
              "    </tr>\n",
              "    <tr>\n",
              "      <th>2</th>\n",
              "      <td>21.01</td>\n",
              "      <td>3.5</td>\n",
              "      <td>Male</td>\n",
              "      <td>No</td>\n",
              "      <td>Sun</td>\n",
              "      <td>Dinner</td>\n",
              "      <td>3</td>\n",
              "    </tr>\n",
              "    <tr>\n",
              "      <th>3</th>\n",
              "      <td>23.68</td>\n",
              "      <td>3.31</td>\n",
              "      <td>Male</td>\n",
              "      <td>No</td>\n",
              "      <td>Sun</td>\n",
              "      <td>Dinner</td>\n",
              "      <td>2</td>\n",
              "    </tr>\n",
              "    <tr>\n",
              "      <th>4</th>\n",
              "      <td>24.59</td>\n",
              "      <td>3.61</td>\n",
              "      <td>Female</td>\n",
              "      <td>No</td>\n",
              "      <td>Sun</td>\n",
              "      <td>Dinner</td>\n",
              "      <td>4</td>\n",
              "    </tr>\n",
              "    <tr>\n",
              "      <th>5</th>\n",
              "      <td>25.29</td>\n",
              "      <td>4.71</td>\n",
              "      <td>Male</td>\n",
              "      <td>No</td>\n",
              "      <td>Sun</td>\n",
              "      <td>Dinner</td>\n",
              "      <td>4</td>\n",
              "    </tr>\n",
              "    <tr>\n",
              "      <th>6</th>\n",
              "      <td>8.77</td>\n",
              "      <td>2</td>\n",
              "      <td>Male</td>\n",
              "      <td>No</td>\n",
              "      <td>Sun</td>\n",
              "      <td>Dinner</td>\n",
              "      <td>2</td>\n",
              "    </tr>\n",
              "    <tr>\n",
              "      <th>7</th>\n",
              "      <td>26.88</td>\n",
              "      <td>3.12</td>\n",
              "      <td>Male</td>\n",
              "      <td>No</td>\n",
              "      <td>Sun</td>\n",
              "      <td>Dinner</td>\n",
              "      <td>4</td>\n",
              "    </tr>\n",
              "    <tr>\n",
              "      <th>8</th>\n",
              "      <td>15.04</td>\n",
              "      <td>1.96</td>\n",
              "      <td>Male</td>\n",
              "      <td>No</td>\n",
              "      <td>Sun</td>\n",
              "      <td>Dinner</td>\n",
              "      <td>2</td>\n",
              "    </tr>\n",
              "    <tr>\n",
              "      <th>9</th>\n",
              "      <td>14.78</td>\n",
              "      <td>3.23</td>\n",
              "      <td>Male</td>\n",
              "      <td>No</td>\n",
              "      <td>Sun</td>\n",
              "      <td>Dinner</td>\n",
              "      <td>2</td>\n",
              "    </tr>\n",
              "  </tbody>\n",
              "</table>\n",
              "</div>"
            ],
            "text/plain": [
              "  total_bill   tip     sex smoker  day    time size\n",
              "0      16.99  1.01  Female     No  Sun  Dinner    2\n",
              "1      10.34  1.66    Male     No  Sun  Dinner    3\n",
              "2      21.01   3.5    Male     No  Sun  Dinner    3\n",
              "3      23.68  3.31    Male     No  Sun  Dinner    2\n",
              "4      24.59  3.61  Female     No  Sun  Dinner    4\n",
              "5      25.29  4.71    Male     No  Sun  Dinner    4\n",
              "6       8.77     2    Male     No  Sun  Dinner    2\n",
              "7      26.88  3.12    Male     No  Sun  Dinner    4\n",
              "8      15.04  1.96    Male     No  Sun  Dinner    2\n",
              "9      14.78  3.23    Male     No  Sun  Dinner    2"
            ]
          },
          "execution_count": 12,
          "metadata": {},
          "output_type": "execute_result"
        }
      ],
      "source": [
        "tips10 = spark.sql(QUERY_TIPS)\n",
        "tips10_df = tips10.toPandas()\n",
        "tips10_df"
      ]
    },
    {
      "cell_type": "markdown",
      "metadata": {
        "id": "mnaSLSzbzdab"
      },
      "source": [
        "Let us try to write a group by sql query as follows. We want to count the number of clients by day and gender. To do so, you have to write a query that performs the following operations:\n",
        " - SELECT the columns `day`, `sex` and `COUNT(*)`;\n",
        " - FROM the table `tips`;\n",
        " - GROUP BY `day` and `sex` columns;\n",
        " - ORDER BY the `day` column.\n"
      ]
    },
    {
      "cell_type": "code",
      "execution_count": null,
      "metadata": {
        "id": "HJkbYMWc0SPe"
      },
      "outputs": [],
      "source": [
        "STUDENT_QUERY = \"SELECT day, sex, COUNT(*) as N FROM tips GROUP BY day, sex ORDER BY day\""
      ]
    },
    {
      "cell_type": "code",
      "execution_count": null,
      "metadata": {
        "colab": {
          "base_uri": "https://localhost:8080/"
        },
        "id": "lfWbZwi09LET",
        "outputId": "2b4e9719-c80d-4980-9ae8-a5eb84b06e85"
      },
      "outputs": [
        {
          "data": {
            "text/plain": [
              "(8, 3)"
            ]
          },
          "execution_count": 14,
          "metadata": {},
          "output_type": "execute_result"
        }
      ],
      "source": [
        "tips_counts = spark.sql(STUDENT_QUERY)\n",
        "pd_counts = tips_counts.toPandas() # Convert the results to a pandas DataFrame\n",
        "pd_counts.shape"
      ]
    },
    {
      "cell_type": "code",
      "execution_count": null,
      "metadata": {
        "id": "oE6O41nkT0zm"
      },
      "outputs": [],
      "source": [
        "# ====================================\n",
        "# Validation Check\n",
        "# DO NOT CHANGE THIS CELL\n",
        "# ====================================\n",
        "vcf_01 =  pd_counts.shape[0]\n",
        "with open('results/vcf_01.txt', 'w') as f:\n",
        "    f.write(\"%s\\n\" % vcf_01)"
      ]
    },
    {
      "cell_type": "markdown",
      "metadata": {
        "id": "ZHbDDtFz8zM_"
      },
      "source": [
        "## Creating new columns with PySpark"
      ]
    },
    {
      "cell_type": "markdown",
      "metadata": {
        "id": "-GatKlEl0jjS"
      },
      "source": [
        "Data wrangling with PySpark is pretty straigthforward. For instance, suppose we wish to add a new column to the spark table `tips`. To do so, we use the `withColumn` method, which returns a new DataFrame by adding a column or replacing the existing column that has the same name. The column expression must be an expression over this DataFrame.\n",
        "\n",
        "So, for instance, suppose we wish to compute the tips' percentage over the total bill. we need two columns from the original table: the `tip` and the `total_bill`. So, inside the `withColumn`, we specify:\n",
        " - the name of the new columns as a string. In our case: `perc_tips`;\n",
        " - the column's expression based on existing tables' columns. In our case: `(tips.tip/tips.total_bill)*100`\n",
        " "
      ]
    },
    {
      "cell_type": "code",
      "execution_count": null,
      "metadata": {
        "colab": {
          "base_uri": "https://localhost:8080/"
        },
        "id": "ckQJxVWjAPKq",
        "outputId": "f83995c6-a463-4636-f285-3b8100bf162c"
      },
      "outputs": [
        {
          "name": "stdout",
          "output_type": "stream",
          "text": [
            "+----------+----+------+------+---+------+----+------------------+\n",
            "|total_bill| tip|   sex|smoker|day|  time|size|         perc_tips|\n",
            "+----------+----+------+------+---+------+----+------------------+\n",
            "|     16.99|1.01|Female|    No|Sun|Dinner|   2|5.9446733372572105|\n",
            "|     10.34|1.66|  Male|    No|Sun|Dinner|   3|16.054158607350097|\n",
            "|     21.01| 3.5|  Male|    No|Sun|Dinner|   3|16.658733936220845|\n",
            "|     23.68|3.31|  Male|    No|Sun|Dinner|   2| 13.97804054054054|\n",
            "|     24.59|3.61|Female|    No|Sun|Dinner|   4|14.680764538430255|\n",
            "|     25.29|4.71|  Male|    No|Sun|Dinner|   4| 18.62396204033215|\n",
            "|      8.77|   2|  Male|    No|Sun|Dinner|   2| 22.80501710376283|\n",
            "|     26.88|3.12|  Male|    No|Sun|Dinner|   4|11.607142857142858|\n",
            "|     15.04|1.96|  Male|    No|Sun|Dinner|   2|13.031914893617023|\n",
            "|     14.78|3.23|  Male|    No|Sun|Dinner|   2|21.853856562922868|\n",
            "|     10.27|1.71|  Male|    No|Sun|Dinner|   2| 16.65043816942551|\n",
            "|     35.26|   5|Female|    No|Sun|Dinner|   4|14.180374361883155|\n",
            "|     15.42|1.57|  Male|    No|Sun|Dinner|   2|10.181582360570687|\n",
            "|     18.43|   3|  Male|    No|Sun|Dinner|   4|16.277807921866522|\n",
            "|     14.83|3.02|Female|    No|Sun|Dinner|   2|20.364126770060686|\n",
            "|     21.58|3.92|  Male|    No|Sun|Dinner|   2|18.164967562557923|\n",
            "|     10.33|1.67|Female|    No|Sun|Dinner|   3| 16.16650532429816|\n",
            "|     16.29|3.71|  Male|    No|Sun|Dinner|   3|22.774708410067525|\n",
            "|     16.97| 3.5|Female|    No|Sun|Dinner|   3|20.624631703005306|\n",
            "|     20.65|3.35|  Male|    No|Sat|Dinner|   3|16.222760290556902|\n",
            "+----------+----+------+------+---+------+----+------------------+\n",
            "only showing top 20 rows\n",
            "\n"
          ]
        }
      ],
      "source": [
        "tips = spark.table(\"tips\")\n",
        "tips = tips.withColumn(\"perc_tips\", (tips.tip/tips.total_bill)*100)\n",
        "tips.show()"
      ]
    },
    {
      "cell_type": "markdown",
      "metadata": {
        "id": "QkbV9O7-16fe"
      },
      "source": [
        "### Pivoting a Spark Table"
      ]
    },
    {
      "cell_type": "markdown",
      "metadata": {
        "id": "-uA4Z-0I3Paf"
      },
      "source": [
        "We can even perform data transformation directly with pyspark: for example, suppose we are interested in getting the total number of clients by their gender. We can call directly in the `tips` tabl;e the `groupBy` method, by specifying the column we wish to aggregate on - in our case `sex`.\n",
        "\n",
        "To aggregate on the column `sex`, we use the `count()` method, which computes the total number of occurrnces by gender."
      ]
    },
    {
      "cell_type": "code",
      "execution_count": null,
      "metadata": {
        "colab": {
          "base_uri": "https://localhost:8080/"
        },
        "id": "MiZBk9zs2Hi1",
        "outputId": "51c74491-4135-4da0-969f-2404b3e357a5"
      },
      "outputs": [
        {
          "name": "stdout",
          "output_type": "stream",
          "text": [
            "+------+-----+\n",
            "|   sex|count|\n",
            "+------+-----+\n",
            "|Female|   87|\n",
            "|  Male|  157|\n",
            "+------+-----+\n",
            "\n"
          ]
        }
      ],
      "source": [
        "by_sex = tips.groupBy(\"sex\")\n",
        "by_sex.count().show()"
      ]
    },
    {
      "cell_type": "markdown",
      "metadata": {
        "id": "2JpGuden31i4"
      },
      "source": [
        "We can obviously specify a different aggregation method: for example, we might be intrested in computing the average percentage tips by gender."
      ]
    },
    {
      "cell_type": "code",
      "execution_count": null,
      "metadata": {
        "id": "n2WrYaMp12hm"
      },
      "outputs": [],
      "source": [
        "by_gender = tips.groupBy(\"sex\")"
      ]
    },
    {
      "cell_type": "code",
      "execution_count": null,
      "metadata": {
        "colab": {
          "base_uri": "https://localhost:8080/"
        },
        "id": "q-yi7wwh14xQ",
        "outputId": "1964f5fa-2907-4b79-deaa-2641a0f5c63d"
      },
      "outputs": [
        {
          "name": "stdout",
          "output_type": "stream",
          "text": [
            "+------+------------------+\n",
            "|   sex|    avg(perc_tips)|\n",
            "+------+------------------+\n",
            "|Female|16.649073632892485|\n",
            "|  Male|15.765054700429744|\n",
            "+------+------------------+\n",
            "\n"
          ]
        }
      ],
      "source": [
        "by_gender.avg(\"perc_tips\").show()"
      ]
    },
    {
      "cell_type": "markdown",
      "metadata": {
        "id": "cKZy0RJCgWNi"
      },
      "source": [
        "### Converting types"
      ]
    },
    {
      "cell_type": "markdown",
      "metadata": {
        "id": "JnqMSCIn4_FH"
      },
      "source": [
        "Sometimes we want to be sure the data is stored correctly in our table. A good feature of the `withColumn` method is that it allows also to replace existing columns, whichm eans that we can even replace the existing type of the column. But how can we do that? \n",
        "\n",
        "Well, that's pretty easy: when calling the `withColumn` we specify the colum name and then the column's expression by applying the `cast` method on it. In this way, we can easily assign a new type to an existing column."
      ]
    },
    {
      "cell_type": "code",
      "execution_count": null,
      "metadata": {
        "id": "G1TWhPivgV2M"
      },
      "outputs": [],
      "source": [
        "tips = tips.withColumn(\"total_bill\",tips.total_bill.cast(\"double\"))\n",
        "tips = tips.withColumn(\"tip\", tips.tip.cast(\"double\"))\n",
        "tips = tips.withColumn(\"size\", tips.size.cast(\"integer\"))"
      ]
    },
    {
      "cell_type": "code",
      "execution_count": null,
      "metadata": {
        "colab": {
          "base_uri": "https://localhost:8080/"
        },
        "id": "67mRQot0h-Vm",
        "outputId": "619fc382-ce89-40fb-de69-7f719664c5d1"
      },
      "outputs": [
        {
          "name": "stdout",
          "output_type": "stream",
          "text": [
            "+----------+----+------+------+---+------+----+------------------+\n",
            "|total_bill| tip|   sex|smoker|day|  time|size|         perc_tips|\n",
            "+----------+----+------+------+---+------+----+------------------+\n",
            "|     16.99|1.01|Female|    No|Sun|Dinner|   2|5.9446733372572105|\n",
            "|     10.34|1.66|  Male|    No|Sun|Dinner|   3|16.054158607350097|\n",
            "|     21.01| 3.5|  Male|    No|Sun|Dinner|   3|16.658733936220845|\n",
            "|     23.68|3.31|  Male|    No|Sun|Dinner|   2| 13.97804054054054|\n",
            "|     24.59|3.61|Female|    No|Sun|Dinner|   4|14.680764538430255|\n",
            "|     25.29|4.71|  Male|    No|Sun|Dinner|   4| 18.62396204033215|\n",
            "|      8.77| 2.0|  Male|    No|Sun|Dinner|   2| 22.80501710376283|\n",
            "|     26.88|3.12|  Male|    No|Sun|Dinner|   4|11.607142857142858|\n",
            "|     15.04|1.96|  Male|    No|Sun|Dinner|   2|13.031914893617023|\n",
            "|     14.78|3.23|  Male|    No|Sun|Dinner|   2|21.853856562922868|\n",
            "|     10.27|1.71|  Male|    No|Sun|Dinner|   2| 16.65043816942551|\n",
            "|     35.26| 5.0|Female|    No|Sun|Dinner|   4|14.180374361883155|\n",
            "|     15.42|1.57|  Male|    No|Sun|Dinner|   2|10.181582360570687|\n",
            "|     18.43| 3.0|  Male|    No|Sun|Dinner|   4|16.277807921866522|\n",
            "|     14.83|3.02|Female|    No|Sun|Dinner|   2|20.364126770060686|\n",
            "|     21.58|3.92|  Male|    No|Sun|Dinner|   2|18.164967562557923|\n",
            "|     10.33|1.67|Female|    No|Sun|Dinner|   3| 16.16650532429816|\n",
            "|     16.29|3.71|  Male|    No|Sun|Dinner|   3|22.774708410067525|\n",
            "|     16.97| 3.5|Female|    No|Sun|Dinner|   3|20.624631703005306|\n",
            "|     20.65|3.35|  Male|    No|Sat|Dinner|   3|16.222760290556902|\n",
            "+----------+----+------+------+---+------+----+------------------+\n",
            "only showing top 20 rows\n",
            "\n"
          ]
        }
      ],
      "source": [
        "tips.show()"
      ]
    },
    {
      "cell_type": "markdown",
      "metadata": {
        "id": "D5kJ72Qc7SVR"
      },
      "source": [
        "Let us try to perform an aggregation using the `groupBy` method as follows. We want to compute the average tip by gender and smoker. To do so, you have to apply the `groupBy` method on the `tips` by specifying, inside the `groupBy` call, the `\"smoker\"` and `\"sex\"` columns, separated by a comma. Be sure you store this object into the variable `by_smoker_sex_table`.\n",
        "\n",
        "Then, apply on the `by_smoker_sex_table` the `avg(\"tip\")`, which aggregates the tip value by smoker and gender. here the aggregation is the average tip with respect to the specified columns. Be sure you call the `show()` method at the end."
      ]
    },
    {
      "cell_type": "code",
      "execution_count": null,
      "metadata": {
        "colab": {
          "base_uri": "https://localhost:8080/"
        },
        "id": "WEb_JP9i7QIa",
        "outputId": "e6075532-dfa0-4c7b-d434-c3763859c662"
      },
      "outputs": [
        {
          "name": "stdout",
          "output_type": "stream",
          "text": [
            "+------+------+------------------+\n",
            "|smoker|   sex|          avg(tip)|\n",
            "+------+------+------------------+\n",
            "|    No|Female|2.7735185185185185|\n",
            "|    No|  Male|  3.11340206185567|\n",
            "|   Yes|  Male|3.0511666666666666|\n",
            "|   Yes|Female| 2.931515151515151|\n",
            "+------+------+------------------+\n",
            "\n"
          ]
        }
      ],
      "source": [
        "by_smoker_sex_table = tips.groupBy(\"smoker\", \"sex\")\n",
        "by_smoker_sex_table.avg(\"tip\").show()"
      ]
    },
    {
      "cell_type": "code",
      "execution_count": null,
      "metadata": {
        "colab": {
          "base_uri": "https://localhost:8080/",
          "height": 37
        },
        "id": "xXi7eUID8RKL",
        "outputId": "5399aede-b970-4e1b-d346-3c3e093304f3"
      },
      "outputs": [
        {
          "data": {
            "text/plain": [
              "'Female'"
            ]
          },
          "execution_count": 23,
          "metadata": {},
          "output_type": "execute_result"
        }
      ],
      "source": [
        "by_smoker_sex_df = by_smoker_sex_table.avg(\"tip\").toPandas() # Convert the results to a pandas DataFrame\n",
        "by_smoker_sex_df.iloc[0,1] # must be \"Female\""
      ]
    },
    {
      "cell_type": "markdown",
      "metadata": {
        "id": "Hyy4gouVzqp6"
      },
      "source": [
        "### Slicing a Tabel with `select`"
      ]
    },
    {
      "cell_type": "markdown",
      "metadata": {
        "id": "2sWj09SI6Eky"
      },
      "source": [
        "In case we wish to select just a few columns, we can use the `select` method, which allows to select the desired columns, and it returns a temporary view."
      ]
    },
    {
      "cell_type": "code",
      "execution_count": null,
      "metadata": {
        "colab": {
          "base_uri": "https://localhost:8080/"
        },
        "id": "FbvGsN2Rzq1f",
        "outputId": "be58117a-9265-491e-cb8e-e8d59a6a470e"
      },
      "outputs": [
        {
          "name": "stdout",
          "output_type": "stream",
          "text": [
            "+----------+----+----+------------------+\n",
            "|total_bill| tip|size|         perc_tips|\n",
            "+----------+----+----+------------------+\n",
            "|     16.99|1.01|   2|5.9446733372572105|\n",
            "|     10.34|1.66|   3|16.054158607350097|\n",
            "|     21.01| 3.5|   3|16.658733936220845|\n",
            "|     23.68|3.31|   2| 13.97804054054054|\n",
            "|     24.59|3.61|   4|14.680764538430255|\n",
            "|     25.29|4.71|   4| 18.62396204033215|\n",
            "|      8.77| 2.0|   2| 22.80501710376283|\n",
            "|     26.88|3.12|   4|11.607142857142858|\n",
            "|     15.04|1.96|   2|13.031914893617023|\n",
            "|     14.78|3.23|   2|21.853856562922868|\n",
            "|     10.27|1.71|   2| 16.65043816942551|\n",
            "|     35.26| 5.0|   4|14.180374361883155|\n",
            "|     15.42|1.57|   2|10.181582360570687|\n",
            "|     18.43| 3.0|   4|16.277807921866522|\n",
            "|     14.83|3.02|   2|20.364126770060686|\n",
            "|     21.58|3.92|   2|18.164967562557923|\n",
            "|     10.33|1.67|   3| 16.16650532429816|\n",
            "|     16.29|3.71|   3|22.774708410067525|\n",
            "|     16.97| 3.5|   3|20.624631703005306|\n",
            "|     20.65|3.35|   3|16.222760290556902|\n",
            "+----------+----+----+------------------+\n",
            "only showing top 20 rows\n",
            "\n"
          ]
        }
      ],
      "source": [
        "# Select the correct columns\n",
        "tips_000 = tips.select(\"total_bill\", \"tip\", \"size\", \"perc_tips\")\n",
        "tips_000.show()"
      ]
    },
    {
      "cell_type": "markdown",
      "metadata": {
        "id": "QC9ZiJl7811e"
      },
      "source": [
        "### Filtering a Table with `filter`"
      ]
    },
    {
      "cell_type": "markdown",
      "metadata": {
        "id": "D_SaJzGX61G1"
      },
      "source": [
        "We have two distinct ways to perform filtering with a Spark table:\n",
        " 1. by using a string expression inside the `filter` method;\n",
        " 2. by using a boolean condition inside the `filter` method.\n",
        "\n",
        "In particular, here we want to perform a simple filtering condition, namely picking all records with a `total_bill` greater than 40 USD."
      ]
    },
    {
      "cell_type": "markdown",
      "metadata": {
        "id": "mzmi4uux8qzc"
      },
      "source": [
        "#### Filtering with a string condition"
      ]
    },
    {
      "cell_type": "code",
      "execution_count": null,
      "metadata": {
        "colab": {
          "base_uri": "https://localhost:8080/",
          "height": 359
        },
        "id": "bHD9Yfio8xB5",
        "outputId": "57760b3e-ddbb-495a-a171-6132b9416fae"
      },
      "outputs": [
        {
          "data": {
            "text/html": [
              "<div>\n",
              "<style scoped>\n",
              "    .dataframe tbody tr th:only-of-type {\n",
              "        vertical-align: middle;\n",
              "    }\n",
              "\n",
              "    .dataframe tbody tr th {\n",
              "        vertical-align: top;\n",
              "    }\n",
              "\n",
              "    .dataframe thead th {\n",
              "        text-align: right;\n",
              "    }\n",
              "</style>\n",
              "<table border=\"1\" class=\"dataframe\">\n",
              "  <thead>\n",
              "    <tr style=\"text-align: right;\">\n",
              "      <th></th>\n",
              "      <th>total_bill</th>\n",
              "      <th>tip</th>\n",
              "      <th>sex</th>\n",
              "      <th>smoker</th>\n",
              "      <th>day</th>\n",
              "      <th>time</th>\n",
              "      <th>size</th>\n",
              "      <th>perc_tips</th>\n",
              "    </tr>\n",
              "  </thead>\n",
              "  <tbody>\n",
              "    <tr>\n",
              "      <th>0</th>\n",
              "      <td>48.27</td>\n",
              "      <td>6.73</td>\n",
              "      <td>Male</td>\n",
              "      <td>No</td>\n",
              "      <td>Sat</td>\n",
              "      <td>Dinner</td>\n",
              "      <td>4</td>\n",
              "      <td>13.942407</td>\n",
              "    </tr>\n",
              "    <tr>\n",
              "      <th>1</th>\n",
              "      <td>40.17</td>\n",
              "      <td>4.73</td>\n",
              "      <td>Male</td>\n",
              "      <td>Yes</td>\n",
              "      <td>Fri</td>\n",
              "      <td>Dinner</td>\n",
              "      <td>4</td>\n",
              "      <td>11.774956</td>\n",
              "    </tr>\n",
              "    <tr>\n",
              "      <th>2</th>\n",
              "      <td>44.30</td>\n",
              "      <td>2.50</td>\n",
              "      <td>Female</td>\n",
              "      <td>Yes</td>\n",
              "      <td>Sat</td>\n",
              "      <td>Dinner</td>\n",
              "      <td>3</td>\n",
              "      <td>5.643341</td>\n",
              "    </tr>\n",
              "    <tr>\n",
              "      <th>3</th>\n",
              "      <td>41.19</td>\n",
              "      <td>5.00</td>\n",
              "      <td>Male</td>\n",
              "      <td>No</td>\n",
              "      <td>Thur</td>\n",
              "      <td>Lunch</td>\n",
              "      <td>5</td>\n",
              "      <td>12.138869</td>\n",
              "    </tr>\n",
              "    <tr>\n",
              "      <th>4</th>\n",
              "      <td>48.17</td>\n",
              "      <td>5.00</td>\n",
              "      <td>Male</td>\n",
              "      <td>No</td>\n",
              "      <td>Sun</td>\n",
              "      <td>Dinner</td>\n",
              "      <td>6</td>\n",
              "      <td>10.379905</td>\n",
              "    </tr>\n",
              "    <tr>\n",
              "      <th>5</th>\n",
              "      <td>50.81</td>\n",
              "      <td>10.00</td>\n",
              "      <td>Male</td>\n",
              "      <td>Yes</td>\n",
              "      <td>Sat</td>\n",
              "      <td>Dinner</td>\n",
              "      <td>3</td>\n",
              "      <td>19.681165</td>\n",
              "    </tr>\n",
              "    <tr>\n",
              "      <th>6</th>\n",
              "      <td>45.35</td>\n",
              "      <td>3.50</td>\n",
              "      <td>Male</td>\n",
              "      <td>Yes</td>\n",
              "      <td>Sun</td>\n",
              "      <td>Dinner</td>\n",
              "      <td>3</td>\n",
              "      <td>7.717751</td>\n",
              "    </tr>\n",
              "    <tr>\n",
              "      <th>7</th>\n",
              "      <td>40.55</td>\n",
              "      <td>3.00</td>\n",
              "      <td>Male</td>\n",
              "      <td>Yes</td>\n",
              "      <td>Sun</td>\n",
              "      <td>Dinner</td>\n",
              "      <td>2</td>\n",
              "      <td>7.398274</td>\n",
              "    </tr>\n",
              "    <tr>\n",
              "      <th>8</th>\n",
              "      <td>43.11</td>\n",
              "      <td>5.00</td>\n",
              "      <td>Female</td>\n",
              "      <td>Yes</td>\n",
              "      <td>Thur</td>\n",
              "      <td>Lunch</td>\n",
              "      <td>4</td>\n",
              "      <td>11.598237</td>\n",
              "    </tr>\n",
              "    <tr>\n",
              "      <th>9</th>\n",
              "      <td>48.33</td>\n",
              "      <td>9.00</td>\n",
              "      <td>Male</td>\n",
              "      <td>No</td>\n",
              "      <td>Sat</td>\n",
              "      <td>Dinner</td>\n",
              "      <td>4</td>\n",
              "      <td>18.621974</td>\n",
              "    </tr>\n",
              "  </tbody>\n",
              "</table>\n",
              "</div>"
            ],
            "text/plain": [
              "   total_bill    tip     sex smoker   day    time  size  perc_tips\n",
              "0       48.27   6.73    Male     No   Sat  Dinner     4  13.942407\n",
              "1       40.17   4.73    Male    Yes   Fri  Dinner     4  11.774956\n",
              "2       44.30   2.50  Female    Yes   Sat  Dinner     3   5.643341\n",
              "3       41.19   5.00    Male     No  Thur   Lunch     5  12.138869\n",
              "4       48.17   5.00    Male     No   Sun  Dinner     6  10.379905\n",
              "5       50.81  10.00    Male    Yes   Sat  Dinner     3  19.681165\n",
              "6       45.35   3.50    Male    Yes   Sun  Dinner     3   7.717751\n",
              "7       40.55   3.00    Male    Yes   Sun  Dinner     2   7.398274\n",
              "8       43.11   5.00  Female    Yes  Thur   Lunch     4  11.598237\n",
              "9       48.33   9.00    Male     No   Sat  Dinner     4  18.621974"
            ]
          },
          "execution_count": 25,
          "metadata": {},
          "output_type": "execute_result"
        }
      ],
      "source": [
        "tips_01 = tips.filter(\"total_bill>40\").toPandas()\n",
        "tips_01"
      ]
    },
    {
      "cell_type": "markdown",
      "metadata": {
        "id": "N1ECSQXu8wli"
      },
      "source": [
        "#### Filtering with a Boolean condition"
      ]
    },
    {
      "cell_type": "code",
      "execution_count": null,
      "metadata": {
        "colab": {
          "base_uri": "https://localhost:8080/",
          "height": 359
        },
        "id": "95olzmfo8v-y",
        "outputId": "5349978a-6665-45e6-acbe-07de3ecb98e5"
      },
      "outputs": [
        {
          "data": {
            "text/html": [
              "<div>\n",
              "<style scoped>\n",
              "    .dataframe tbody tr th:only-of-type {\n",
              "        vertical-align: middle;\n",
              "    }\n",
              "\n",
              "    .dataframe tbody tr th {\n",
              "        vertical-align: top;\n",
              "    }\n",
              "\n",
              "    .dataframe thead th {\n",
              "        text-align: right;\n",
              "    }\n",
              "</style>\n",
              "<table border=\"1\" class=\"dataframe\">\n",
              "  <thead>\n",
              "    <tr style=\"text-align: right;\">\n",
              "      <th></th>\n",
              "      <th>total_bill</th>\n",
              "      <th>tip</th>\n",
              "      <th>sex</th>\n",
              "      <th>smoker</th>\n",
              "      <th>day</th>\n",
              "      <th>time</th>\n",
              "      <th>size</th>\n",
              "      <th>perc_tips</th>\n",
              "    </tr>\n",
              "  </thead>\n",
              "  <tbody>\n",
              "    <tr>\n",
              "      <th>0</th>\n",
              "      <td>48.27</td>\n",
              "      <td>6.73</td>\n",
              "      <td>Male</td>\n",
              "      <td>No</td>\n",
              "      <td>Sat</td>\n",
              "      <td>Dinner</td>\n",
              "      <td>4</td>\n",
              "      <td>13.942407</td>\n",
              "    </tr>\n",
              "    <tr>\n",
              "      <th>1</th>\n",
              "      <td>40.17</td>\n",
              "      <td>4.73</td>\n",
              "      <td>Male</td>\n",
              "      <td>Yes</td>\n",
              "      <td>Fri</td>\n",
              "      <td>Dinner</td>\n",
              "      <td>4</td>\n",
              "      <td>11.774956</td>\n",
              "    </tr>\n",
              "    <tr>\n",
              "      <th>2</th>\n",
              "      <td>44.30</td>\n",
              "      <td>2.50</td>\n",
              "      <td>Female</td>\n",
              "      <td>Yes</td>\n",
              "      <td>Sat</td>\n",
              "      <td>Dinner</td>\n",
              "      <td>3</td>\n",
              "      <td>5.643341</td>\n",
              "    </tr>\n",
              "    <tr>\n",
              "      <th>3</th>\n",
              "      <td>41.19</td>\n",
              "      <td>5.00</td>\n",
              "      <td>Male</td>\n",
              "      <td>No</td>\n",
              "      <td>Thur</td>\n",
              "      <td>Lunch</td>\n",
              "      <td>5</td>\n",
              "      <td>12.138869</td>\n",
              "    </tr>\n",
              "    <tr>\n",
              "      <th>4</th>\n",
              "      <td>48.17</td>\n",
              "      <td>5.00</td>\n",
              "      <td>Male</td>\n",
              "      <td>No</td>\n",
              "      <td>Sun</td>\n",
              "      <td>Dinner</td>\n",
              "      <td>6</td>\n",
              "      <td>10.379905</td>\n",
              "    </tr>\n",
              "    <tr>\n",
              "      <th>5</th>\n",
              "      <td>50.81</td>\n",
              "      <td>10.00</td>\n",
              "      <td>Male</td>\n",
              "      <td>Yes</td>\n",
              "      <td>Sat</td>\n",
              "      <td>Dinner</td>\n",
              "      <td>3</td>\n",
              "      <td>19.681165</td>\n",
              "    </tr>\n",
              "    <tr>\n",
              "      <th>6</th>\n",
              "      <td>45.35</td>\n",
              "      <td>3.50</td>\n",
              "      <td>Male</td>\n",
              "      <td>Yes</td>\n",
              "      <td>Sun</td>\n",
              "      <td>Dinner</td>\n",
              "      <td>3</td>\n",
              "      <td>7.717751</td>\n",
              "    </tr>\n",
              "    <tr>\n",
              "      <th>7</th>\n",
              "      <td>40.55</td>\n",
              "      <td>3.00</td>\n",
              "      <td>Male</td>\n",
              "      <td>Yes</td>\n",
              "      <td>Sun</td>\n",
              "      <td>Dinner</td>\n",
              "      <td>2</td>\n",
              "      <td>7.398274</td>\n",
              "    </tr>\n",
              "    <tr>\n",
              "      <th>8</th>\n",
              "      <td>43.11</td>\n",
              "      <td>5.00</td>\n",
              "      <td>Female</td>\n",
              "      <td>Yes</td>\n",
              "      <td>Thur</td>\n",
              "      <td>Lunch</td>\n",
              "      <td>4</td>\n",
              "      <td>11.598237</td>\n",
              "    </tr>\n",
              "    <tr>\n",
              "      <th>9</th>\n",
              "      <td>48.33</td>\n",
              "      <td>9.00</td>\n",
              "      <td>Male</td>\n",
              "      <td>No</td>\n",
              "      <td>Sat</td>\n",
              "      <td>Dinner</td>\n",
              "      <td>4</td>\n",
              "      <td>18.621974</td>\n",
              "    </tr>\n",
              "  </tbody>\n",
              "</table>\n",
              "</div>"
            ],
            "text/plain": [
              "   total_bill    tip     sex smoker   day    time  size  perc_tips\n",
              "0       48.27   6.73    Male     No   Sat  Dinner     4  13.942407\n",
              "1       40.17   4.73    Male    Yes   Fri  Dinner     4  11.774956\n",
              "2       44.30   2.50  Female    Yes   Sat  Dinner     3   5.643341\n",
              "3       41.19   5.00    Male     No  Thur   Lunch     5  12.138869\n",
              "4       48.17   5.00    Male     No   Sun  Dinner     6  10.379905\n",
              "5       50.81  10.00    Male    Yes   Sat  Dinner     3  19.681165\n",
              "6       45.35   3.50    Male    Yes   Sun  Dinner     3   7.717751\n",
              "7       40.55   3.00    Male    Yes   Sun  Dinner     2   7.398274\n",
              "8       43.11   5.00  Female    Yes  Thur   Lunch     4  11.598237\n",
              "9       48.33   9.00    Male     No   Sat  Dinner     4  18.621974"
            ]
          },
          "execution_count": 26,
          "metadata": {},
          "output_type": "execute_result"
        }
      ],
      "source": [
        "tips_02 = tips.filter(tips.total_bill>40).toPandas() # Filter tips with a boolean\n",
        "tips_02"
      ]
    },
    {
      "cell_type": "markdown",
      "metadata": {
        "id": "Bj428AvfmzYV"
      },
      "source": [
        "We can even apply multiple filtering as follows:"
      ]
    },
    {
      "cell_type": "code",
      "execution_count": null,
      "metadata": {
        "id": "X9uDOYKh-mJT"
      },
      "outputs": [],
      "source": [
        "filterA = tips.sex == \"Female\"\n",
        "filterB = tips.day == \"Sun\"\n",
        "tips_03 = tips.filter(filterA).filter(filterB)"
      ]
    },
    {
      "cell_type": "code",
      "execution_count": null,
      "metadata": {
        "colab": {
          "base_uri": "https://localhost:8080/"
        },
        "id": "zKmzcJ_U0UB7",
        "outputId": "9acc9ca6-74b5-4aea-dbca-87c40738d0d6"
      },
      "outputs": [
        {
          "name": "stdout",
          "output_type": "stream",
          "text": [
            "+----------+----+------+------+---+------+----+------------------+\n",
            "|total_bill| tip|   sex|smoker|day|  time|size|         perc_tips|\n",
            "+----------+----+------+------+---+------+----+------------------+\n",
            "|     16.99|1.01|Female|    No|Sun|Dinner|   2|5.9446733372572105|\n",
            "|     24.59|3.61|Female|    No|Sun|Dinner|   4|14.680764538430255|\n",
            "|     35.26| 5.0|Female|    No|Sun|Dinner|   4|14.180374361883155|\n",
            "|     14.83|3.02|Female|    No|Sun|Dinner|   2|20.364126770060686|\n",
            "|     10.33|1.67|Female|    No|Sun|Dinner|   3| 16.16650532429816|\n",
            "|     16.97| 3.5|Female|    No|Sun|Dinner|   3|20.624631703005306|\n",
            "|     10.29| 2.6|Female|    No|Sun|Dinner|   2| 25.26724975704568|\n",
            "|     34.81| 5.2|Female|    No|Sun|Dinner|   4|14.938236139040505|\n",
            "|     25.71| 4.0|Female|    No|Sun|Dinner|   3|15.558148580318942|\n",
            "|     17.31| 3.5|Female|    No|Sun|Dinner|   2|20.219526285384173|\n",
            "|     29.85|5.14|Female|    No|Sun|Dinner|   5|17.219430485762143|\n",
            "|      25.0|3.75|Female|    No|Sun|Dinner|   4|              15.0|\n",
            "|     13.39|2.61|Female|    No|Sun|Dinner|   2| 19.49215832710978|\n",
            "|     16.21| 2.0|Female|    No|Sun|Dinner|   3|12.338062924120912|\n",
            "|     17.51| 3.0|Female|   Yes|Sun|Dinner|   2|17.133066818960593|\n",
            "|       9.6| 4.0|Female|   Yes|Sun|Dinner|   2| 41.66666666666667|\n",
            "|      20.9| 3.5|Female|   Yes|Sun|Dinner|   3| 16.74641148325359|\n",
            "|     18.15| 3.5|Female|   Yes|Sun|Dinner|   3| 19.28374655647383|\n",
            "+----------+----+------+------+---+------+----+------------------+\n",
            "\n"
          ]
        }
      ],
      "source": [
        "tips_03.show()"
      ]
    },
    {
      "cell_type": "markdown",
      "metadata": {
        "id": "7GH4fX3emuOr"
      },
      "source": [
        "Another nice application of this feature is that we can remove null values with a simple string. For example, in case we wish to remove all reocrds where the `total_bill` is null, we just need to pass to the `filter` call the string `\"total_bill is not NULL\"`. That's cool, isnt't it?"
      ]
    },
    {
      "cell_type": "code",
      "execution_count": null,
      "metadata": {
        "colab": {
          "base_uri": "https://localhost:8080/"
        },
        "id": "lUY5LiwO9o6_",
        "outputId": "4eab22dd-a1b6-48e3-92dd-3654d3a499e2"
      },
      "outputs": [
        {
          "name": "stdout",
          "output_type": "stream",
          "text": [
            "+----------+----+------+------+---+------+----+------------------+\n",
            "|total_bill| tip|   sex|smoker|day|  time|size|         perc_tips|\n",
            "+----------+----+------+------+---+------+----+------------------+\n",
            "|     16.99|1.01|Female|    No|Sun|Dinner|   2|5.9446733372572105|\n",
            "|     10.34|1.66|  Male|    No|Sun|Dinner|   3|16.054158607350097|\n",
            "|     21.01| 3.5|  Male|    No|Sun|Dinner|   3|16.658733936220845|\n",
            "|     23.68|3.31|  Male|    No|Sun|Dinner|   2| 13.97804054054054|\n",
            "|     24.59|3.61|Female|    No|Sun|Dinner|   4|14.680764538430255|\n",
            "|     25.29|4.71|  Male|    No|Sun|Dinner|   4| 18.62396204033215|\n",
            "|      8.77| 2.0|  Male|    No|Sun|Dinner|   2| 22.80501710376283|\n",
            "|     26.88|3.12|  Male|    No|Sun|Dinner|   4|11.607142857142858|\n",
            "|     15.04|1.96|  Male|    No|Sun|Dinner|   2|13.031914893617023|\n",
            "|     14.78|3.23|  Male|    No|Sun|Dinner|   2|21.853856562922868|\n",
            "|     10.27|1.71|  Male|    No|Sun|Dinner|   2| 16.65043816942551|\n",
            "|     35.26| 5.0|Female|    No|Sun|Dinner|   4|14.180374361883155|\n",
            "|     15.42|1.57|  Male|    No|Sun|Dinner|   2|10.181582360570687|\n",
            "|     18.43| 3.0|  Male|    No|Sun|Dinner|   4|16.277807921866522|\n",
            "|     14.83|3.02|Female|    No|Sun|Dinner|   2|20.364126770060686|\n",
            "|     21.58|3.92|  Male|    No|Sun|Dinner|   2|18.164967562557923|\n",
            "|     10.33|1.67|Female|    No|Sun|Dinner|   3| 16.16650532429816|\n",
            "|     16.29|3.71|  Male|    No|Sun|Dinner|   3|22.774708410067525|\n",
            "|     16.97| 3.5|Female|    No|Sun|Dinner|   3|20.624631703005306|\n",
            "|     20.65|3.35|  Male|    No|Sat|Dinner|   3|16.222760290556902|\n",
            "+----------+----+------+------+---+------+----+------------------+\n",
            "only showing top 20 rows\n",
            "\n"
          ]
        }
      ],
      "source": [
        "tips_counts = tips.filter(\"total_bill is not NULL\")\n",
        "tips_counts.show()"
      ]
    },
    {
      "cell_type": "markdown",
      "metadata": {
        "id": "TSKIpzEpCrSf"
      },
      "source": [
        "Let us try to perform an aggregation using the `groupBy` method as follows. Similarly to what we did before, we want to compute the average tip for a non-smoker Male. To do so, we can filter the `tips` by gender and smoker, as follows:\n",
        " - filter by `tips.sex=='Male'`\n",
        " - filter by `tips.smoker=='No'`\n",
        "\n",
        "and then you `groupBy().avg('perc_tips')`. Be sure you call the `show()` method at the end."
      ]
    },
    {
      "cell_type": "code",
      "execution_count": null,
      "metadata": {
        "colab": {
          "base_uri": "https://localhost:8080/",
          "height": 80
        },
        "id": "LcoI-s7fAax-",
        "outputId": "35a66b7f-cc3d-44ff-b755-1eab2a808368"
      },
      "outputs": [
        {
          "data": {
            "text/html": [
              "<div>\n",
              "<style scoped>\n",
              "    .dataframe tbody tr th:only-of-type {\n",
              "        vertical-align: middle;\n",
              "    }\n",
              "\n",
              "    .dataframe tbody tr th {\n",
              "        vertical-align: top;\n",
              "    }\n",
              "\n",
              "    .dataframe thead th {\n",
              "        text-align: right;\n",
              "    }\n",
              "</style>\n",
              "<table border=\"1\" class=\"dataframe\">\n",
              "  <thead>\n",
              "    <tr style=\"text-align: right;\">\n",
              "      <th></th>\n",
              "      <th>avg(perc_tips)</th>\n",
              "    </tr>\n",
              "  </thead>\n",
              "  <tbody>\n",
              "    <tr>\n",
              "      <th>0</th>\n",
              "      <td>16.066872</td>\n",
              "    </tr>\n",
              "  </tbody>\n",
              "</table>\n",
              "</div>"
            ],
            "text/plain": [
              "   avg(perc_tips)\n",
              "0       16.066872"
            ]
          },
          "execution_count": 30,
          "metadata": {},
          "output_type": "execute_result"
        }
      ],
      "source": [
        "exercise_table = tips.filter(tips.sex=='Male').filter(tips.smoker=='No').groupBy().avg('perc_tips')\n",
        "exercise_table_df = exercise_table.toPandas()\n",
        "exercise_table_df"
      ]
    },
    {
      "cell_type": "code",
      "execution_count": null,
      "metadata": {
        "id": "aZyDrJy-Ue2g"
      },
      "outputs": [],
      "source": [
        "# ====================================\n",
        "# Validation Check\n",
        "# DO NOT CHANGE THIS CELL\n",
        "# ====================================\n",
        "vcf_02 =  int(exercise_table_df.iloc[0,0])\n",
        "with open('results/vcf_02.txt', 'w') as f:\n",
        "    f.write(\"%s\\n\" % vcf_02)"
      ]
    },
    {
      "cell_type": "markdown",
      "metadata": {
        "id": "Y4blq1Qpig3F"
      },
      "source": [
        "**End Lab**"
      ]
    }
  ],
  "metadata": {
    "accelerator": "GPU",
    "colab": {
      "collapsed_sections": [],
      "name": "spark_preprocessing.ipynb",
      "provenance": [],
      "include_colab_link": true
    },
    "kernelspec": {
      "display_name": "Python 3",
      "language": "python",
      "name": "python3"
    },
    "language_info": {
      "codemirror_mode": {
        "name": "ipython",
        "version": 3
      },
      "file_extension": ".py",
      "mimetype": "text/x-python",
      "name": "python",
      "nbconvert_exporter": "python",
      "pygments_lexer": "ipython3",
      "version": "3.8.3"
    }
  },
  "nbformat": 4,
  "nbformat_minor": 0
}