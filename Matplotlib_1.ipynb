{
  "nbformat": 4,
  "nbformat_minor": 0,
  "metadata": {
    "colab": {
      "name": "matplotlib_1.ipynb",
      "provenance": [],
      "collapsed_sections": [],
      "authorship_tag": "ABX9TyOCApJvPz3rvenNDxTgWECD",
      "include_colab_link": true
    },
    "kernelspec": {
      "name": "python3",
      "display_name": "Python 3"
    },
    "language_info": {
      "name": "python"
    }
  },
  "cells": [
    {
      "cell_type": "markdown",
      "metadata": {
        "id": "view-in-github",
        "colab_type": "text"
      },
      "source": [
        "<a href=\"https://colab.research.google.com/github/veranika-izrailyan/Machine_Learning/blob/main/matplotlib_1.ipynb\" target=\"_parent\"><img src=\"https://colab.research.google.com/assets/colab-badge.svg\" alt=\"Open In Colab\"/></a>"
      ]
    },
    {
      "cell_type": "code",
      "execution_count": 2,
      "metadata": {
        "id": "68IWosHnQDg3"
      },
      "outputs": [],
      "source": [
        "import matplotlib.pyplot as plt\n",
        "# %matplotlib inline\n",
        "# %matplotlib notebook"
      ]
    },
    {
      "cell_type": "code",
      "source": [
        "fig, ax = plt.subplots()\n",
        "plt.show()"
      ],
      "metadata": {
        "colab": {
          "base_uri": "https://localhost:8080/",
          "height": 269
        },
        "id": "ay7gaiwHQd18",
        "outputId": "d19cbfc0-93bc-40b3-80e9-c573565c3897"
      },
      "execution_count": 3,
      "outputs": [
        {
          "output_type": "display_data",
          "data": {
            "image/png": "[encoded data removed]",
            "text/plain": [
              "<Figure size 432x288 with 1 Axes>"
            ]
          },
          "metadata": {
            "needs_background": "light"
          }
        }
      ]
    },
    {
      "cell_type": "code",
      "source": [
        "fig, ax = plt.subplots(nrows=2, ncols=1)"
      ],
      "metadata": {
        "colab": {
          "base_uri": "https://localhost:8080/",
          "height": 269
        },
        "id": "q5INZaACQpiL",
        "outputId": "6cb57a9b-4e1e-4f51-b6f7-4a50d4a628e0"
      },
      "execution_count": 4,
      "outputs": [
        {
          "output_type": "display_data",
          "data": {
            "image/png": "[encoded data removed]",
            "text/plain": [
              "<Figure size 432x288 with 2 Axes>"
            ]
          },
          "metadata": {
            "needs_background": "light"
          }
        }
      ]
    },
    {
      "cell_type": "code",
      "source": [
        "import pandas as pd\n",
        "\n",
        "df = pd.read_csv('gapminder.csv')\n",
        "df.head()"
      ],
      "metadata": {
        "colab": {
          "base_uri": "https://localhost:8080/",
          "height": 206
        },
        "id": "kFwPdLglR9-k",
        "outputId": "961b049c-a700-41a0-a227-f26e30509baa"
      },
      "execution_count": 6,
      "outputs": [
        {
          "output_type": "execute_result",
          "data": {
            "text/html": [
              "\n",
              "  <div id=\"df-33a9e91d-2094-4520-85e4-b2feb962ed16\">\n",
              "    <div class=\"colab-df-container\">\n",
              "      <div>\n",
              "<style scoped>\n",
              "    .dataframe tbody tr th:only-of-type {\n",
              "        vertical-align: middle;\n",
              "    }\n",
              "\n",
              "    .dataframe tbody tr th {\n",
              "        vertical-align: top;\n",
              "    }\n",
              "\n",
              "    .dataframe thead th {\n",
              "        text-align: right;\n",
              "    }\n",
              "</style>\n",
              "<table border=\"1\" class=\"dataframe\">\n",
              "  <thead>\n",
              "    <tr style=\"text-align: right;\">\n",
              "      <th></th>\n",
              "      <th>Country</th>\n",
              "      <th>Year</th>\n",
              "      <th>fertility</th>\n",
              "      <th>life</th>\n",
              "      <th>population</th>\n",
              "      <th>child_mortality</th>\n",
              "      <th>gdp</th>\n",
              "      <th>region</th>\n",
              "    </tr>\n",
              "  </thead>\n",
              "  <tbody>\n",
              "    <tr>\n",
              "      <th>0</th>\n",
              "      <td>Afghanistan</td>\n",
              "      <td>1964</td>\n",
              "      <td>7.671</td>\n",
              "      <td>33.639</td>\n",
              "      <td>10474903.0</td>\n",
              "      <td>339.7</td>\n",
              "      <td>1182.0</td>\n",
              "      <td>South Asia</td>\n",
              "    </tr>\n",
              "    <tr>\n",
              "      <th>1</th>\n",
              "      <td>Afghanistan</td>\n",
              "      <td>1965</td>\n",
              "      <td>7.671</td>\n",
              "      <td>34.152</td>\n",
              "      <td>10697983.0</td>\n",
              "      <td>334.1</td>\n",
              "      <td>1182.0</td>\n",
              "      <td>South Asia</td>\n",
              "    </tr>\n",
              "    <tr>\n",
              "      <th>2</th>\n",
              "      <td>Afghanistan</td>\n",
              "      <td>1966</td>\n",
              "      <td>7.671</td>\n",
              "      <td>34.662</td>\n",
              "      <td>10927724.0</td>\n",
              "      <td>328.7</td>\n",
              "      <td>1168.0</td>\n",
              "      <td>South Asia</td>\n",
              "    </tr>\n",
              "    <tr>\n",
              "      <th>3</th>\n",
              "      <td>Afghanistan</td>\n",
              "      <td>1967</td>\n",
              "      <td>7.671</td>\n",
              "      <td>35.170</td>\n",
              "      <td>11163656.0</td>\n",
              "      <td>323.3</td>\n",
              "      <td>1173.0</td>\n",
              "      <td>South Asia</td>\n",
              "    </tr>\n",
              "    <tr>\n",
              "      <th>4</th>\n",
              "      <td>Afghanistan</td>\n",
              "      <td>1968</td>\n",
              "      <td>7.671</td>\n",
              "      <td>35.674</td>\n",
              "      <td>11411022.0</td>\n",
              "      <td>318.1</td>\n",
              "      <td>1187.0</td>\n",
              "      <td>South Asia</td>\n",
              "    </tr>\n",
              "  </tbody>\n",
              "</table>\n",
              "</div>\n",
              "      <button class=\"colab-df-convert\" onclick=\"convertToInteractive('df-33a9e91d-2094-4520-85e4-b2feb962ed16')\"\n",
              "              title=\"Convert this dataframe to an interactive table.\"\n",
              "              style=\"display:none;\">\n",
              "        \n",
              "  <svg xmlns=\"http://www.w3.org/2000/svg\" height=\"24px\"viewBox=\"0 0 24 24\"\n",
              "       width=\"24px\">\n",
              "    <path d=\"M0 0h24v24H0V0z\" fill=\"none\"/>\n",
              "    <path d=\"M18.56 5.44l.94 2.06.94-2.06 2.06-.94-2.06-.94-.94-2.06-.94 2.06-2.06.94zm-11 1L8.5 8.5l.94-2.06 2.06-.94-2.06-.94L8.5 2.5l-.94 2.06-2.06.94zm10 10l.94 2.06.94-2.06 2.06-.94-2.06-.94-.94-2.06-.94 2.06-2.06.94z\"/><path d=\"M17.41 7.96l-1.37-1.37c-.4-.4-.92-.59-1.43-.59-.52 0-1.04.2-1.43.59L10.3 9.45l-7.72 7.72c-.78.78-.78 2.05 0 2.83L4 21.41c.39.39.9.59 1.41.59.51 0 1.02-.2 1.41-.59l7.78-7.78 2.81-2.81c.8-.78.8-2.07 0-2.86zM5.41 20L4 18.59l7.72-7.72 1.47 1.35L5.41 20z\"/>\n",
              "  </svg>\n",
              "      </button>\n",
              "      \n",
              "  <style>\n",
              "    .colab-df-container {\n",
              "      display:flex;\n",
              "      flex-wrap:wrap;\n",
              "      gap: 12px;\n",
              "    }\n",
              "\n",
              "    .colab-df-convert {\n",
              "      background-color: #E8F0FE;\n",
              "      border: none;\n",
              "      border-radius: 50%;\n",
              "      cursor: pointer;\n",
              "      display: none;\n",
              "      fill: #1967D2;\n",
              "      height: 32px;\n",
              "      padding: 0 0 0 0;\n",
              "      width: 32px;\n",
              "    }\n",
              "\n",
              "    .colab-df-convert:hover {\n",
              "      background-color: #E2EBFA;\n",
              "      box-shadow: 0px 1px 2px rgba(60, 64, 67, 0.3), 0px 1px 3px 1px rgba(60, 64, 67, 0.15);\n",
              "      fill: #174EA6;\n",
              "    }\n",
              "\n",
              "    [theme=dark] .colab-df-convert {\n",
              "      background-color: #3B4455;\n",
              "      fill: #D2E3FC;\n",
              "    }\n",
              "\n",
              "    [theme=dark] .colab-df-convert:hover {\n",
              "      background-color: #434B5C;\n",
              "      box-shadow: 0px 1px 3px 1px rgba(0, 0, 0, 0.15);\n",
              "      filter: drop-shadow(0px 1px 2px rgba(0, 0, 0, 0.3));\n",
              "      fill: #FFFFFF;\n",
              "    }\n",
              "  </style>\n",
              "\n",
              "      <script>\n",
              "        const buttonEl =\n",
              "          document.querySelector('#df-33a9e91d-2094-4520-85e4-b2feb962ed16 button.colab-df-convert');\n",
              "        buttonEl.style.display =\n",
              "          google.colab.kernel.accessAllowed ? 'block' : 'none';\n",
              "\n",
              "        async function convertToInteractive(key) {\n",
              "          const element = document.querySelector('#df-33a9e91d-2094-4520-85e4-b2feb962ed16');\n",
              "          const dataTable =\n",
              "            await google.colab.kernel.invokeFunction('convertToInteractive',\n",
              "                                                     [key], {});\n",
              "          if (!dataTable) return;\n",
              "\n",
              "          const docLinkHtml = 'Like what you see? Visit the ' +\n",
              "            '<a target=\"_blank\" href=https://colab.research.google.com/notebooks/data_table.ipynb>data table notebook</a>'\n",
              "            + ' to learn more about interactive tables.';\n",
              "          element.innerHTML = '';\n",
              "          dataTable['output_type'] = 'display_data';\n",
              "          await google.colab.output.renderOutput(dataTable, element);\n",
              "          const docLink = document.createElement('div');\n",
              "          docLink.innerHTML = docLinkHtml;\n",
              "          element.appendChild(docLink);\n",
              "        }\n",
              "      </script>\n",
              "    </div>\n",
              "  </div>\n",
              "  "
            ],
            "text/plain": [
              "       Country  Year  fertility  ...  child_mortality     gdp      region\n",
              "0  Afghanistan  1964      7.671  ...            339.7  1182.0  South Asia\n",
              "1  Afghanistan  1965      7.671  ...            334.1  1182.0  South Asia\n",
              "2  Afghanistan  1966      7.671  ...            328.7  1168.0  South Asia\n",
              "3  Afghanistan  1967      7.671  ...            323.3  1173.0  South Asia\n",
              "4  Afghanistan  1968      7.671  ...            318.1  1187.0  South Asia\n",
              "\n",
              "[5 rows x 8 columns]"
            ]
          },
          "metadata": {},
          "execution_count": 6
        }
      ]
    },
    {
      "cell_type": "code",
      "source": [
        "df.info()"
      ],
      "metadata": {
        "colab": {
          "base_uri": "https://localhost:8080/"
        },
        "id": "97kVTPVuSK4_",
        "outputId": "12930ca8-15e5-414b-9c38-2ea32bd0eaac"
      },
      "execution_count": 7,
      "outputs": [
        {
          "output_type": "stream",
          "name": "stdout",
          "text": [
            "<class 'pandas.core.frame.DataFrame'>\n",
            "RangeIndex: 10111 entries, 0 to 10110\n",
            "Data columns (total 8 columns):\n",
            " #   Column           Non-Null Count  Dtype  \n",
            "---  ------           --------------  -----  \n",
            " 0   Country          10111 non-null  object \n",
            " 1   Year             10111 non-null  int64  \n",
            " 2   fertility        10100 non-null  float64\n",
            " 3   life             10111 non-null  float64\n",
            " 4   population       10108 non-null  float64\n",
            " 5   child_mortality  9210 non-null   float64\n",
            " 6   gdp              9000 non-null   float64\n",
            " 7   region           10111 non-null  object \n",
            "dtypes: float64(5), int64(1), object(2)\n",
            "memory usage: 632.1+ KB\n"
          ]
        }
      ]
    },
    {
      "cell_type": "code",
      "source": [
        "df.describe()"
      ],
      "metadata": {
        "colab": {
          "base_uri": "https://localhost:8080/",
          "height": 300
        },
        "id": "MVnj4M_ySevp",
        "outputId": "48aba426-abe6-4393-d6ed-1da12c995c74"
      },
      "execution_count": 8,
      "outputs": [
        {
          "output_type": "execute_result",
          "data": {
            "text/html": [
              "\n",
              "  <div id=\"df-7ffeb490-7e2d-4a6b-95c7-c4017b2af457\">\n",
              "    <div class=\"colab-df-container\">\n",
              "      <div>\n",
              "<style scoped>\n",
              "    .dataframe tbody tr th:only-of-type {\n",
              "        vertical-align: middle;\n",
              "    }\n",
              "\n",
              "    .dataframe tbody tr th {\n",
              "        vertical-align: top;\n",
              "    }\n",
              "\n",
              "    .dataframe thead th {\n",
              "        text-align: right;\n",
              "    }\n",
              "</style>\n",
              "<table border=\"1\" class=\"dataframe\">\n",
              "  <thead>\n",
              "    <tr style=\"text-align: right;\">\n",
              "      <th></th>\n",
              "      <th>Year</th>\n",
              "      <th>fertility</th>\n",
              "      <th>life</th>\n",
              "      <th>population</th>\n",
              "      <th>child_mortality</th>\n",
              "      <th>gdp</th>\n",
              "    </tr>\n",
              "  </thead>\n",
              "  <tbody>\n",
              "    <tr>\n",
              "      <th>count</th>\n",
              "      <td>10111.000000</td>\n",
              "      <td>10100.000000</td>\n",
              "      <td>10111.000000</td>\n",
              "      <td>1.010800e+04</td>\n",
              "      <td>9210.000000</td>\n",
              "      <td>9000.000000</td>\n",
              "    </tr>\n",
              "    <tr>\n",
              "      <th>mean</th>\n",
              "      <td>1988.514588</td>\n",
              "      <td>4.028719</td>\n",
              "      <td>64.078600</td>\n",
              "      <td>2.560448e+07</td>\n",
              "      <td>80.834505</td>\n",
              "      <td>12746.916667</td>\n",
              "    </tr>\n",
              "    <tr>\n",
              "      <th>std</th>\n",
              "      <td>14.430849</td>\n",
              "      <td>2.013968</td>\n",
              "      <td>11.122779</td>\n",
              "      <td>1.032383e+08</td>\n",
              "      <td>79.220942</td>\n",
              "      <td>17797.809953</td>\n",
              "    </tr>\n",
              "    <tr>\n",
              "      <th>min</th>\n",
              "      <td>1964.000000</td>\n",
              "      <td>0.836000</td>\n",
              "      <td>6.000000</td>\n",
              "      <td>1.170000e+03</td>\n",
              "      <td>2.000000</td>\n",
              "      <td>142.000000</td>\n",
              "    </tr>\n",
              "    <tr>\n",
              "      <th>25%</th>\n",
              "      <td>1976.000000</td>\n",
              "      <td>2.175750</td>\n",
              "      <td>56.282500</td>\n",
              "      <td>8.874062e+05</td>\n",
              "      <td>18.900000</td>\n",
              "      <td>2263.000000</td>\n",
              "    </tr>\n",
              "    <tr>\n",
              "      <th>50%</th>\n",
              "      <td>1989.000000</td>\n",
              "      <td>3.632500</td>\n",
              "      <td>67.157000</td>\n",
              "      <td>4.765781e+06</td>\n",
              "      <td>50.700000</td>\n",
              "      <td>6438.500000</td>\n",
              "    </tr>\n",
              "    <tr>\n",
              "      <th>75%</th>\n",
              "      <td>2001.000000</td>\n",
              "      <td>5.905250</td>\n",
              "      <td>72.484000</td>\n",
              "      <td>1.476995e+07</td>\n",
              "      <td>121.775000</td>\n",
              "      <td>15887.250000</td>\n",
              "    </tr>\n",
              "    <tr>\n",
              "      <th>max</th>\n",
              "      <td>2013.000000</td>\n",
              "      <td>9.223000</td>\n",
              "      <td>83.580000</td>\n",
              "      <td>1.359368e+09</td>\n",
              "      <td>435.800000</td>\n",
              "      <td>182668.000000</td>\n",
              "    </tr>\n",
              "  </tbody>\n",
              "</table>\n",
              "</div>\n",
              "      <button class=\"colab-df-convert\" onclick=\"convertToInteractive('df-7ffeb490-7e2d-4a6b-95c7-c4017b2af457')\"\n",
              "              title=\"Convert this dataframe to an interactive table.\"\n",
              "              style=\"display:none;\">\n",
              "        \n",
              "  <svg xmlns=\"http://www.w3.org/2000/svg\" height=\"24px\"viewBox=\"0 0 24 24\"\n",
              "       width=\"24px\">\n",
              "    <path d=\"M0 0h24v24H0V0z\" fill=\"none\"/>\n",
              "    <path d=\"M18.56 5.44l.94 2.06.94-2.06 2.06-.94-2.06-.94-.94-2.06-.94 2.06-2.06.94zm-11 1L8.5 8.5l.94-2.06 2.06-.94-2.06-.94L8.5 2.5l-.94 2.06-2.06.94zm10 10l.94 2.06.94-2.06 2.06-.94-2.06-.94-.94-2.06-.94 2.06-2.06.94z\"/><path d=\"M17.41 7.96l-1.37-1.37c-.4-.4-.92-.59-1.43-.59-.52 0-1.04.2-1.43.59L10.3 9.45l-7.72 7.72c-.78.78-.78 2.05 0 2.83L4 21.41c.39.39.9.59 1.41.59.51 0 1.02-.2 1.41-.59l7.78-7.78 2.81-2.81c.8-.78.8-2.07 0-2.86zM5.41 20L4 18.59l7.72-7.72 1.47 1.35L5.41 20z\"/>\n",
              "  </svg>\n",
              "      </button>\n",
              "      \n",
              "  <style>\n",
              "    .colab-df-container {\n",
              "      display:flex;\n",
              "      flex-wrap:wrap;\n",
              "      gap: 12px;\n",
              "    }\n",
              "\n",
              "    .colab-df-convert {\n",
              "      background-color: #E8F0FE;\n",
              "      border: none;\n",
              "      border-radius: 50%;\n",
              "      cursor: pointer;\n",
              "      display: none;\n",
              "      fill: #1967D2;\n",
              "      height: 32px;\n",
              "      padding: 0 0 0 0;\n",
              "      width: 32px;\n",
              "    }\n",
              "\n",
              "    .colab-df-convert:hover {\n",
              "      background-color: #E2EBFA;\n",
              "      box-shadow: 0px 1px 2px rgba(60, 64, 67, 0.3), 0px 1px 3px 1px rgba(60, 64, 67, 0.15);\n",
              "      fill: #174EA6;\n",
              "    }\n",
              "\n",
              "    [theme=dark] .colab-df-convert {\n",
              "      background-color: #3B4455;\n",
              "      fill: #D2E3FC;\n",
              "    }\n",
              "\n",
              "    [theme=dark] .colab-df-convert:hover {\n",
              "      background-color: #434B5C;\n",
              "      box-shadow: 0px 1px 3px 1px rgba(0, 0, 0, 0.15);\n",
              "      filter: drop-shadow(0px 1px 2px rgba(0, 0, 0, 0.3));\n",
              "      fill: #FFFFFF;\n",
              "    }\n",
              "  </style>\n",
              "\n",
              "      <script>\n",
              "        const buttonEl =\n",
              "          document.querySelector('#df-7ffeb490-7e2d-4a6b-95c7-c4017b2af457 button.colab-df-convert');\n",
              "        buttonEl.style.display =\n",
              "          google.colab.kernel.accessAllowed ? 'block' : 'none';\n",
              "\n",
              "        async function convertToInteractive(key) {\n",
              "          const element = document.querySelector('#df-7ffeb490-7e2d-4a6b-95c7-c4017b2af457');\n",
              "          const dataTable =\n",
              "            await google.colab.kernel.invokeFunction('convertToInteractive',\n",
              "                                                     [key], {});\n",
              "          if (!dataTable) return;\n",
              "\n",
              "          const docLinkHtml = 'Like what you see? Visit the ' +\n",
              "            '<a target=\"_blank\" href=https://colab.research.google.com/notebooks/data_table.ipynb>data table notebook</a>'\n",
              "            + ' to learn more about interactive tables.';\n",
              "          element.innerHTML = '';\n",
              "          dataTable['output_type'] = 'display_data';\n",
              "          await google.colab.output.renderOutput(dataTable, element);\n",
              "          const docLink = document.createElement('div');\n",
              "          docLink.innerHTML = docLinkHtml;\n",
              "          element.appendChild(docLink);\n",
              "        }\n",
              "      </script>\n",
              "    </div>\n",
              "  </div>\n",
              "  "
            ],
            "text/plain": [
              "               Year     fertility  ...  child_mortality            gdp\n",
              "count  10111.000000  10100.000000  ...      9210.000000    9000.000000\n",
              "mean    1988.514588      4.028719  ...        80.834505   12746.916667\n",
              "std       14.430849      2.013968  ...        79.220942   17797.809953\n",
              "min     1964.000000      0.836000  ...         2.000000     142.000000\n",
              "25%     1976.000000      2.175750  ...        18.900000    2263.000000\n",
              "50%     1989.000000      3.632500  ...        50.700000    6438.500000\n",
              "75%     2001.000000      5.905250  ...       121.775000   15887.250000\n",
              "max     2013.000000      9.223000  ...       435.800000  182668.000000\n",
              "\n",
              "[8 rows x 6 columns]"
            ]
          },
          "metadata": {},
          "execution_count": 8
        }
      ]
    },
    {
      "cell_type": "code",
      "source": [
        "df_usa=df.query(\"Country == 'United States'\").reset_index(drop=True)\n",
        "df_usa.head()"
      ],
      "metadata": {
        "colab": {
          "base_uri": "https://localhost:8080/",
          "height": 206
        },
        "id": "QCxYfjGvS05q",
        "outputId": "55aad232-24dc-4aa7-e073-f826251e5c0b"
      },
      "execution_count": 9,
      "outputs": [
        {
          "output_type": "execute_result",
          "data": {
            "text/html": [
              "\n",
              "  <div id=\"df-444425d8-b700-4ec4-9ed4-b111987faf5c\">\n",
              "    <div class=\"colab-df-container\">\n",
              "      <div>\n",
              "<style scoped>\n",
              "    .dataframe tbody tr th:only-of-type {\n",
              "        vertical-align: middle;\n",
              "    }\n",
              "\n",
              "    .dataframe tbody tr th {\n",
              "        vertical-align: top;\n",
              "    }\n",
              "\n",
              "    .dataframe thead th {\n",
              "        text-align: right;\n",
              "    }\n",
              "</style>\n",
              "<table border=\"1\" class=\"dataframe\">\n",
              "  <thead>\n",
              "    <tr style=\"text-align: right;\">\n",
              "      <th></th>\n",
              "      <th>Country</th>\n",
              "      <th>Year</th>\n",
              "      <th>fertility</th>\n",
              "      <th>life</th>\n",
              "      <th>population</th>\n",
              "      <th>child_mortality</th>\n",
              "      <th>gdp</th>\n",
              "      <th>region</th>\n",
              "    </tr>\n",
              "  </thead>\n",
              "  <tbody>\n",
              "    <tr>\n",
              "      <th>0</th>\n",
              "      <td>United States</td>\n",
              "      <td>1964</td>\n",
              "      <td>3.222</td>\n",
              "      <td>70.33</td>\n",
              "      <td>197094531.0</td>\n",
              "      <td>27.7</td>\n",
              "      <td>20338.0</td>\n",
              "      <td>America</td>\n",
              "    </tr>\n",
              "    <tr>\n",
              "      <th>1</th>\n",
              "      <td>United States</td>\n",
              "      <td>1965</td>\n",
              "      <td>2.926</td>\n",
              "      <td>70.41</td>\n",
              "      <td>199452508.0</td>\n",
              "      <td>27.1</td>\n",
              "      <td>21361.0</td>\n",
              "      <td>America</td>\n",
              "    </tr>\n",
              "    <tr>\n",
              "      <th>2</th>\n",
              "      <td>United States</td>\n",
              "      <td>1966</td>\n",
              "      <td>2.714</td>\n",
              "      <td>70.43</td>\n",
              "      <td>201657141.0</td>\n",
              "      <td>26.4</td>\n",
              "      <td>22495.0</td>\n",
              "      <td>America</td>\n",
              "    </tr>\n",
              "    <tr>\n",
              "      <th>3</th>\n",
              "      <td>United States</td>\n",
              "      <td>1967</td>\n",
              "      <td>2.564</td>\n",
              "      <td>70.76</td>\n",
              "      <td>203717833.0</td>\n",
              "      <td>25.7</td>\n",
              "      <td>22803.0</td>\n",
              "      <td>America</td>\n",
              "    </tr>\n",
              "    <tr>\n",
              "      <th>4</th>\n",
              "      <td>United States</td>\n",
              "      <td>1968</td>\n",
              "      <td>2.467</td>\n",
              "      <td>70.42</td>\n",
              "      <td>205672498.0</td>\n",
              "      <td>24.9</td>\n",
              "      <td>23647.0</td>\n",
              "      <td>America</td>\n",
              "    </tr>\n",
              "  </tbody>\n",
              "</table>\n",
              "</div>\n",
              "      <button class=\"colab-df-convert\" onclick=\"convertToInteractive('df-444425d8-b700-4ec4-9ed4-b111987faf5c')\"\n",
              "              title=\"Convert this dataframe to an interactive table.\"\n",
              "              style=\"display:none;\">\n",
              "        \n",
              "  <svg xmlns=\"http://www.w3.org/2000/svg\" height=\"24px\"viewBox=\"0 0 24 24\"\n",
              "       width=\"24px\">\n",
              "    <path d=\"M0 0h24v24H0V0z\" fill=\"none\"/>\n",
              "    <path d=\"M18.56 5.44l.94 2.06.94-2.06 2.06-.94-2.06-.94-.94-2.06-.94 2.06-2.06.94zm-11 1L8.5 8.5l.94-2.06 2.06-.94-2.06-.94L8.5 2.5l-.94 2.06-2.06.94zm10 10l.94 2.06.94-2.06 2.06-.94-2.06-.94-.94-2.06-.94 2.06-2.06.94z\"/><path d=\"M17.41 7.96l-1.37-1.37c-.4-.4-.92-.59-1.43-.59-.52 0-1.04.2-1.43.59L10.3 9.45l-7.72 7.72c-.78.78-.78 2.05 0 2.83L4 21.41c.39.39.9.59 1.41.59.51 0 1.02-.2 1.41-.59l7.78-7.78 2.81-2.81c.8-.78.8-2.07 0-2.86zM5.41 20L4 18.59l7.72-7.72 1.47 1.35L5.41 20z\"/>\n",
              "  </svg>\n",
              "      </button>\n",
              "      \n",
              "  <style>\n",
              "    .colab-df-container {\n",
              "      display:flex;\n",
              "      flex-wrap:wrap;\n",
              "      gap: 12px;\n",
              "    }\n",
              "\n",
              "    .colab-df-convert {\n",
              "      background-color: #E8F0FE;\n",
              "      border: none;\n",
              "      border-radius: 50%;\n",
              "      cursor: pointer;\n",
              "      display: none;\n",
              "      fill: #1967D2;\n",
              "      height: 32px;\n",
              "      padding: 0 0 0 0;\n",
              "      width: 32px;\n",
              "    }\n",
              "\n",
              "    .colab-df-convert:hover {\n",
              "      background-color: #E2EBFA;\n",
              "      box-shadow: 0px 1px 2px rgba(60, 64, 67, 0.3), 0px 1px 3px 1px rgba(60, 64, 67, 0.15);\n",
              "      fill: #174EA6;\n",
              "    }\n",
              "\n",
              "    [theme=dark] .colab-df-convert {\n",
              "      background-color: #3B4455;\n",
              "      fill: #D2E3FC;\n",
              "    }\n",
              "\n",
              "    [theme=dark] .colab-df-convert:hover {\n",
              "      background-color: #434B5C;\n",
              "      box-shadow: 0px 1px 3px 1px rgba(0, 0, 0, 0.15);\n",
              "      filter: drop-shadow(0px 1px 2px rgba(0, 0, 0, 0.3));\n",
              "      fill: #FFFFFF;\n",
              "    }\n",
              "  </style>\n",
              "\n",
              "      <script>\n",
              "        const buttonEl =\n",
              "          document.querySelector('#df-444425d8-b700-4ec4-9ed4-b111987faf5c button.colab-df-convert');\n",
              "        buttonEl.style.display =\n",
              "          google.colab.kernel.accessAllowed ? 'block' : 'none';\n",
              "\n",
              "        async function convertToInteractive(key) {\n",
              "          const element = document.querySelector('#df-444425d8-b700-4ec4-9ed4-b111987faf5c');\n",
              "          const dataTable =\n",
              "            await google.colab.kernel.invokeFunction('convertToInteractive',\n",
              "                                                     [key], {});\n",
              "          if (!dataTable) return;\n",
              "\n",
              "          const docLinkHtml = 'Like what you see? Visit the ' +\n",
              "            '<a target=\"_blank\" href=https://colab.research.google.com/notebooks/data_table.ipynb>data table notebook</a>'\n",
              "            + ' to learn more about interactive tables.';\n",
              "          element.innerHTML = '';\n",
              "          dataTable['output_type'] = 'display_data';\n",
              "          await google.colab.output.renderOutput(dataTable, element);\n",
              "          const docLink = document.createElement('div');\n",
              "          docLink.innerHTML = docLinkHtml;\n",
              "          element.appendChild(docLink);\n",
              "        }\n",
              "      </script>\n",
              "    </div>\n",
              "  </div>\n",
              "  "
            ],
            "text/plain": [
              "         Country  Year  fertility  ...  child_mortality      gdp   region\n",
              "0  United States  1964      3.222  ...             27.7  20338.0  America\n",
              "1  United States  1965      2.926  ...             27.1  21361.0  America\n",
              "2  United States  1966      2.714  ...             26.4  22495.0  America\n",
              "3  United States  1967      2.564  ...             25.7  22803.0  America\n",
              "4  United States  1968      2.467  ...             24.9  23647.0  America\n",
              "\n",
              "[5 rows x 8 columns]"
            ]
          },
          "metadata": {},
          "execution_count": 9
        }
      ]
    },
    {
      "cell_type": "code",
      "source": [
        "df_usa.shape"
      ],
      "metadata": {
        "colab": {
          "base_uri": "https://localhost:8080/"
        },
        "id": "B7DsyNn-TQmg",
        "outputId": "2c21ca06-b586-4f5d-933c-915367dacb31"
      },
      "execution_count": 10,
      "outputs": [
        {
          "output_type": "execute_result",
          "data": {
            "text/plain": [
              "(50, 8)"
            ]
          },
          "metadata": {},
          "execution_count": 10
        }
      ]
    },
    {
      "cell_type": "code",
      "source": [
        "fig, ax = plt.subplots(figsize=[10,8])\n",
        "ax.plot(df_usa['Year'], df_usa['gdp'])\n",
        "plt.show()"
      ],
      "metadata": {
        "colab": {
          "base_uri": "https://localhost:8080/",
          "height": 483
        },
        "id": "b9DgaVr3TpMX",
        "outputId": "6f8baad2-a810-4a19-af7b-8845c5bebe36"
      },
      "execution_count": 11,
      "outputs": [
        {
          "output_type": "display_data",
          "data": {
            "image/png": "[encoded data removed]",
            "text/plain": [
              "<Figure size 720x576 with 1 Axes>"
            ]
          },
          "metadata": {
            "needs_background": "light"
          }
        }
      ]
    },
    {
      "cell_type": "code",
      "source": [
        "print(plt.rcParams.get('figure.figsize'))"
      ],
      "metadata": {
        "colab": {
          "base_uri": "https://localhost:8080/"
        },
        "id": "yh14axJmUN-b",
        "outputId": "f1bdeb3f-e722-4f8e-ac43-c1e7c11c9d2f"
      },
      "execution_count": 12,
      "outputs": [
        {
          "output_type": "stream",
          "name": "stdout",
          "text": [
            "[6.0, 4.0]\n"
          ]
        }
      ]
    },
    {
      "cell_type": "code",
      "source": [
        "# figsize=(w,h)\n",
        "# px = w * dpi\n",
        "# py = h * dpi\n",
        "\n",
        "fig, ax = plt.subplots(figsize=[6.4,4.8], dpi=100)\n",
        "ax.plot(df_usa['Year'], df_usa['gdp'], marker='d', linestyle='-', color='g', label='USA')\n",
        "ax.set_xticks(list(range(df_usa['Year'].min(), df_usa['Year'].max()+ 1, 6)))\n",
        "ax.set_xticklabels(list(range(df_usa['Year'].min(), df_usa['Year'].max()+ 1, 6)), fontdict={'size': 12, 'color':'g'})\n",
        "ax.set_xlabel('Year', fontdict={'size': 12})\n",
        "ax.set_ylabel('GDP per capita', fontdict={'size': 12})\n",
        "ax.set_title('GDP per capita in the USA')\n",
        "plt.grid(True)\n",
        "# ax.legend(loc='best')\n",
        "handles, labels = ax.get_legend_handles_labels()\n",
        "ax.legend(handles, labels, title='Country', title_fontsize='small')\n",
        "plt.show()"
      ],
      "metadata": {
        "colab": {
          "base_uri": "https://localhost:8080/",
          "height": 473
        },
        "id": "JXitx63tVB51",
        "outputId": "c7d01d88-5c7b-4ae5-b6ed-f2604698f96a"
      },
      "execution_count": 13,
      "outputs": [
        {
          "output_type": "display_data",
          "data": {
            "image/png": "[encoded data removed]",
            "text/plain": [
              "<Figure size 640x480 with 1 Axes>"
            ]
          },
          "metadata": {
            "needs_background": "light"
          }
        }
      ]
    },
    {
      "cell_type": "code",
      "source": [
        "df_china=df.query(\"Country=='China'\").reset_index(drop=True)\n",
        "df_china.head()"
      ],
      "metadata": {
        "colab": {
          "base_uri": "https://localhost:8080/",
          "height": 206
        },
        "id": "aCAH8g9t3s7f",
        "outputId": "0d5c2f38-200d-49b6-ad75-1bb7f0af361c"
      },
      "execution_count": 19,
      "outputs": [
        {
          "output_type": "execute_result",
          "data": {
            "text/html": [
              "\n",
              "  <div id=\"df-9bbb4d3c-ba86-48ba-a854-e9220c6c3b33\">\n",
              "    <div class=\"colab-df-container\">\n",
              "      <div>\n",
              "<style scoped>\n",
              "    .dataframe tbody tr th:only-of-type {\n",
              "        vertical-align: middle;\n",
              "    }\n",
              "\n",
              "    .dataframe tbody tr th {\n",
              "        vertical-align: top;\n",
              "    }\n",
              "\n",
              "    .dataframe thead th {\n",
              "        text-align: right;\n",
              "    }\n",
              "</style>\n",
              "<table border=\"1\" class=\"dataframe\">\n",
              "  <thead>\n",
              "    <tr style=\"text-align: right;\">\n",
              "      <th></th>\n",
              "      <th>Country</th>\n",
              "      <th>Year</th>\n",
              "      <th>fertility</th>\n",
              "      <th>life</th>\n",
              "      <th>population</th>\n",
              "      <th>child_mortality</th>\n",
              "      <th>gdp</th>\n",
              "      <th>region</th>\n",
              "    </tr>\n",
              "  </thead>\n",
              "  <tbody>\n",
              "    <tr>\n",
              "      <th>0</th>\n",
              "      <td>China</td>\n",
              "      <td>1964</td>\n",
              "      <td>6.120</td>\n",
              "      <td>53.32072</td>\n",
              "      <td>696171650.0</td>\n",
              "      <td>130.77</td>\n",
              "      <td>713.0</td>\n",
              "      <td>East Asia &amp; Pacific</td>\n",
              "    </tr>\n",
              "    <tr>\n",
              "      <th>1</th>\n",
              "      <td>China</td>\n",
              "      <td>1965</td>\n",
              "      <td>6.022</td>\n",
              "      <td>55.64680</td>\n",
              "      <td>710290299.0</td>\n",
              "      <td>115.43</td>\n",
              "      <td>772.0</td>\n",
              "      <td>East Asia &amp; Pacific</td>\n",
              "    </tr>\n",
              "    <tr>\n",
              "      <th>2</th>\n",
              "      <td>China</td>\n",
              "      <td>1966</td>\n",
              "      <td>6.211</td>\n",
              "      <td>56.80320</td>\n",
              "      <td>727601056.0</td>\n",
              "      <td>120.80</td>\n",
              "      <td>826.0</td>\n",
              "      <td>East Asia &amp; Pacific</td>\n",
              "    </tr>\n",
              "    <tr>\n",
              "      <th>3</th>\n",
              "      <td>China</td>\n",
              "      <td>1967</td>\n",
              "      <td>5.252</td>\n",
              "      <td>58.38112</td>\n",
              "      <td>747678772.0</td>\n",
              "      <td>126.42</td>\n",
              "      <td>719.0</td>\n",
              "      <td>East Asia &amp; Pacific</td>\n",
              "    </tr>\n",
              "    <tr>\n",
              "      <th>4</th>\n",
              "      <td>China</td>\n",
              "      <td>1968</td>\n",
              "      <td>6.370</td>\n",
              "      <td>59.40520</td>\n",
              "      <td>769666505.0</td>\n",
              "      <td>132.30</td>\n",
              "      <td>669.0</td>\n",
              "      <td>East Asia &amp; Pacific</td>\n",
              "    </tr>\n",
              "  </tbody>\n",
              "</table>\n",
              "</div>\n",
              "      <button class=\"colab-df-convert\" onclick=\"convertToInteractive('df-9bbb4d3c-ba86-48ba-a854-e9220c6c3b33')\"\n",
              "              title=\"Convert this dataframe to an interactive table.\"\n",
              "              style=\"display:none;\">\n",
              "        \n",
              "  <svg xmlns=\"http://www.w3.org/2000/svg\" height=\"24px\"viewBox=\"0 0 24 24\"\n",
              "       width=\"24px\">\n",
              "    <path d=\"M0 0h24v24H0V0z\" fill=\"none\"/>\n",
              "    <path d=\"M18.56 5.44l.94 2.06.94-2.06 2.06-.94-2.06-.94-.94-2.06-.94 2.06-2.06.94zm-11 1L8.5 8.5l.94-2.06 2.06-.94-2.06-.94L8.5 2.5l-.94 2.06-2.06.94zm10 10l.94 2.06.94-2.06 2.06-.94-2.06-.94-.94-2.06-.94 2.06-2.06.94z\"/><path d=\"M17.41 7.96l-1.37-1.37c-.4-.4-.92-.59-1.43-.59-.52 0-1.04.2-1.43.59L10.3 9.45l-7.72 7.72c-.78.78-.78 2.05 0 2.83L4 21.41c.39.39.9.59 1.41.59.51 0 1.02-.2 1.41-.59l7.78-7.78 2.81-2.81c.8-.78.8-2.07 0-2.86zM5.41 20L4 18.59l7.72-7.72 1.47 1.35L5.41 20z\"/>\n",
              "  </svg>\n",
              "      </button>\n",
              "      \n",
              "  <style>\n",
              "    .colab-df-container {\n",
              "      display:flex;\n",
              "      flex-wrap:wrap;\n",
              "      gap: 12px;\n",
              "    }\n",
              "\n",
              "    .colab-df-convert {\n",
              "      background-color: #E8F0FE;\n",
              "      border: none;\n",
              "      border-radius: 50%;\n",
              "      cursor: pointer;\n",
              "      display: none;\n",
              "      fill: #1967D2;\n",
              "      height: 32px;\n",
              "      padding: 0 0 0 0;\n",
              "      width: 32px;\n",
              "    }\n",
              "\n",
              "    .colab-df-convert:hover {\n",
              "      background-color: #E2EBFA;\n",
              "      box-shadow: 0px 1px 2px rgba(60, 64, 67, 0.3), 0px 1px 3px 1px rgba(60, 64, 67, 0.15);\n",
              "      fill: #174EA6;\n",
              "    }\n",
              "\n",
              "    [theme=dark] .colab-df-convert {\n",
              "      background-color: #3B4455;\n",
              "      fill: #D2E3FC;\n",
              "    }\n",
              "\n",
              "    [theme=dark] .colab-df-convert:hover {\n",
              "      background-color: #434B5C;\n",
              "      box-shadow: 0px 1px 3px 1px rgba(0, 0, 0, 0.15);\n",
              "      filter: drop-shadow(0px 1px 2px rgba(0, 0, 0, 0.3));\n",
              "      fill: #FFFFFF;\n",
              "    }\n",
              "  </style>\n",
              "\n",
              "      <script>\n",
              "        const buttonEl =\n",
              "          document.querySelector('#df-9bbb4d3c-ba86-48ba-a854-e9220c6c3b33 button.colab-df-convert');\n",
              "        buttonEl.style.display =\n",
              "          google.colab.kernel.accessAllowed ? 'block' : 'none';\n",
              "\n",
              "        async function convertToInteractive(key) {\n",
              "          const element = document.querySelector('#df-9bbb4d3c-ba86-48ba-a854-e9220c6c3b33');\n",
              "          const dataTable =\n",
              "            await google.colab.kernel.invokeFunction('convertToInteractive',\n",
              "                                                     [key], {});\n",
              "          if (!dataTable) return;\n",
              "\n",
              "          const docLinkHtml = 'Like what you see? Visit the ' +\n",
              "            '<a target=\"_blank\" href=https://colab.research.google.com/notebooks/data_table.ipynb>data table notebook</a>'\n",
              "            + ' to learn more about interactive tables.';\n",
              "          element.innerHTML = '';\n",
              "          dataTable['output_type'] = 'display_data';\n",
              "          await google.colab.output.renderOutput(dataTable, element);\n",
              "          const docLink = document.createElement('div');\n",
              "          docLink.innerHTML = docLinkHtml;\n",
              "          element.appendChild(docLink);\n",
              "        }\n",
              "      </script>\n",
              "    </div>\n",
              "  </div>\n",
              "  "
            ],
            "text/plain": [
              "  Country  Year  fertility  ...  child_mortality    gdp               region\n",
              "0   China  1964      6.120  ...           130.77  713.0  East Asia & Pacific\n",
              "1   China  1965      6.022  ...           115.43  772.0  East Asia & Pacific\n",
              "2   China  1966      6.211  ...           120.80  826.0  East Asia & Pacific\n",
              "3   China  1967      5.252  ...           126.42  719.0  East Asia & Pacific\n",
              "4   China  1968      6.370  ...           132.30  669.0  East Asia & Pacific\n",
              "\n",
              "[5 rows x 8 columns]"
            ]
          },
          "metadata": {},
          "execution_count": 19
        }
      ]
    },
    {
      "cell_type": "code",
      "source": [
        "df_china.info()"
      ],
      "metadata": {
        "colab": {
          "base_uri": "https://localhost:8080/"
        },
        "id": "IblGgNLl36fr",
        "outputId": "0e6a981d-6446-43b7-a790-063a6179b6b8"
      },
      "execution_count": 20,
      "outputs": [
        {
          "output_type": "stream",
          "name": "stdout",
          "text": [
            "<class 'pandas.core.frame.DataFrame'>\n",
            "RangeIndex: 50 entries, 0 to 49\n",
            "Data columns (total 8 columns):\n",
            " #   Column           Non-Null Count  Dtype  \n",
            "---  ------           --------------  -----  \n",
            " 0   Country          50 non-null     object \n",
            " 1   Year             50 non-null     int64  \n",
            " 2   fertility        50 non-null     float64\n",
            " 3   life             50 non-null     float64\n",
            " 4   population       50 non-null     float64\n",
            " 5   child_mortality  50 non-null     float64\n",
            " 6   gdp              50 non-null     float64\n",
            " 7   region           50 non-null     object \n",
            "dtypes: float64(5), int64(1), object(2)\n",
            "memory usage: 3.2+ KB\n"
          ]
        }
      ]
    },
    {
      "cell_type": "code",
      "source": [
        "fig, ax =plt.subplots()\n",
        "ax.plot(df_usa['Year'], df_usa['gdp'], linestyle='-', color='b', label='USA')\n",
        "ax.plot(df_china['Year'], df_china['gdp'], linestyle='-', color='r', label='China')\n",
        "ax.set_xlabel('Year')\n",
        "ax.set_ylabel('GDP per capita')\n",
        "ax.legend(title='Country')\n",
        "plt.show()"
      ],
      "metadata": {
        "colab": {
          "base_uri": "https://localhost:8080/",
          "height": 279
        },
        "id": "KukmBU3P4jmF",
        "outputId": "e5c5d10b-a236-4a77-91de-2c0153197e97"
      },
      "execution_count": 21,
      "outputs": [
        {
          "output_type": "display_data",
          "data": {
            "image/png": "[encoded data removed]",
            "text/plain": [
              "<Figure size 432x288 with 1 Axes>"
            ]
          },
          "metadata": {
            "needs_background": "light"
          }
        }
      ]
    },
    {
      "cell_type": "code",
      "source": [
        "fig, ax =plt.subplots(nrows=2, ncols=1, figsize=(12,10))\n",
        "ax[0].plot(df_usa['Year'], df_usa['gdp'], linestyle='-', color='b', label='USA')\n",
        "ax[1].plot(df_china['Year'], df_china['gdp'], linestyle='-', color='r', label='China')\n",
        "ax[1].set_xlabel('Year')\n",
        "ax[0].set_ylabel('GDP per capita (USA)')\n",
        "ax[1].set_ylabel('GDP per capita (China')\n",
        "ax[0].set_title('Evolution of the GDP per capita')\n",
        "ax[0].grid(True)\n",
        "ax[1].grid(True)\n",
        "plt.show()"
      ],
      "metadata": {
        "colab": {
          "base_uri": "https://localhost:8080/",
          "height": 621
        },
        "id": "sDmNg1xD6KYz",
        "outputId": "b46ece57-b512-4c26-b64f-8d0950643f80"
      },
      "execution_count": 24,
      "outputs": [
        {
          "output_type": "display_data",
          "data": {
            "image/png": "[encoded data removed]",
            "text/plain": [
              "<Figure size 864x720 with 2 Axes>"
            ]
          },
          "metadata": {
            "needs_background": "light"
          }
        }
      ]
    },
    {
      "cell_type": "code",
      "source": [
        "fig, ax =plt.subplots(figsize=(12,10))\n",
        "ax.plot(df_usa['Year'], df_usa['gdp'], linestyle='-', color='b', label='USA')\n",
        "ax.set_xlabel('Year')\n",
        "ax.set_ylabel('GDP per capita (USA)')\n",
        "ax.set_title('Evolution of the GDP per capita')\n",
        "ax2=ax.twinx()\n",
        "ax2.plot(df_china['Year'], df_china['gdp'], linestyle='-', color='r', label='China')\n",
        "ax2.set_ylabel('GDP per capita (China)')\n",
        "\n",
        "lines, handles=ax.get_legend_handles_labels()\n",
        "lines2, handles2=ax2.get_legend_handles_labels()\n",
        "ax2.legend(lines + lines2, handles + handles2, loc='best')\n",
        "\n",
        "ax.grid(True)\n",
        "plt.show()"
      ],
      "metadata": {
        "colab": {
          "base_uri": "https://localhost:8080/",
          "height": 621
        },
        "id": "KvPGsLrT7ixc",
        "outputId": "3e212ed0-fcb3-41a6-dc1f-d96b4ce6243d"
      },
      "execution_count": 27,
      "outputs": [
        {
          "output_type": "display_data",
          "data": {
            "image/png": "[encoded data removed]",
            "text/plain": [
              "<Figure size 864x720 with 2 Axes>"
            ]
          },
          "metadata": {
            "needs_background": "light"
          }
        }
      ]
    },
    {
      "cell_type": "markdown",
      "source": [
        "\n",
        "**Twin axes**\n"
      ],
      "metadata": {
        "id": "rRULutuJBwmh"
      }
    },
    {
      "cell_type": "code",
      "source": [
        "fig, ax =plt.subplots(figsize=(12,10))\n",
        "ax.plot(df_usa['Year'], df_usa['gdp'], linestyle='-', color='b', label='USA')\n",
        "ax.set_xlabel('Year')\n",
        "ax.set_ylabel('GDP per capita (USA)', color='b')\n",
        "ax.set_title('Evolution of the GDP per capita')\n",
        "ax.tick_params('y', colors='b')\n",
        "ax2=ax.twinx()\n",
        "ax2.plot(df_china['Year'], df_china['gdp'], linestyle='-', color='r', label='China')\n",
        "ax2.set_ylabel('GDP per capita (China)', color='r')\n",
        "ax2.tick_params('y', colors='r')\n",
        "ax.grid(True)\n",
        "plt.show()"
      ],
      "metadata": {
        "colab": {
          "base_uri": "https://localhost:8080/",
          "height": 621
        },
        "id": "aKKrKikT_0CJ",
        "outputId": "047f1486-63d1-4b75-ed40-ee779bc3c8a5"
      },
      "execution_count": 30,
      "outputs": [
        {
          "output_type": "display_data",
          "data": {
            "image/png": "[encoded data removed]",
            "text/plain": [
              "<Figure size 864x720 with 2 Axes>"
            ]
          },
          "metadata": {
            "needs_background": "light"
          }
        }
      ]
    },
    {
      "cell_type": "markdown",
      "source": [
        "\n",
        "**Annotation of text**\n"
      ],
      "metadata": {
        "id": "WpbukUJOA3un"
      }
    },
    {
      "cell_type": "code",
      "source": [
        "df_china.head()"
      ],
      "metadata": {
        "colab": {
          "base_uri": "https://localhost:8080/",
          "height": 206
        },
        "id": "Y6bFTPA9BExn",
        "outputId": "a4968979-cc74-42e5-e08e-585da28ecce6"
      },
      "execution_count": 31,
      "outputs": [
        {
          "output_type": "execute_result",
          "data": {
            "text/html": [
              "\n",
              "  <div id=\"df-169a2181-34dd-49f5-a8df-69d2b58754bb\">\n",
              "    <div class=\"colab-df-container\">\n",
              "      <div>\n",
              "<style scoped>\n",
              "    .dataframe tbody tr th:only-of-type {\n",
              "        vertical-align: middle;\n",
              "    }\n",
              "\n",
              "    .dataframe tbody tr th {\n",
              "        vertical-align: top;\n",
              "    }\n",
              "\n",
              "    .dataframe thead th {\n",
              "        text-align: right;\n",
              "    }\n",
              "</style>\n",
              "<table border=\"1\" class=\"dataframe\">\n",
              "  <thead>\n",
              "    <tr style=\"text-align: right;\">\n",
              "      <th></th>\n",
              "      <th>Country</th>\n",
              "      <th>Year</th>\n",
              "      <th>fertility</th>\n",
              "      <th>life</th>\n",
              "      <th>population</th>\n",
              "      <th>child_mortality</th>\n",
              "      <th>gdp</th>\n",
              "      <th>region</th>\n",
              "    </tr>\n",
              "  </thead>\n",
              "  <tbody>\n",
              "    <tr>\n",
              "      <th>0</th>\n",
              "      <td>China</td>\n",
              "      <td>1964</td>\n",
              "      <td>6.120</td>\n",
              "      <td>53.32072</td>\n",
              "      <td>696171650.0</td>\n",
              "      <td>130.77</td>\n",
              "      <td>713.0</td>\n",
              "      <td>East Asia &amp; Pacific</td>\n",
              "    </tr>\n",
              "    <tr>\n",
              "      <th>1</th>\n",
              "      <td>China</td>\n",
              "      <td>1965</td>\n",
              "      <td>6.022</td>\n",
              "      <td>55.64680</td>\n",
              "      <td>710290299.0</td>\n",
              "      <td>115.43</td>\n",
              "      <td>772.0</td>\n",
              "      <td>East Asia &amp; Pacific</td>\n",
              "    </tr>\n",
              "    <tr>\n",
              "      <th>2</th>\n",
              "      <td>China</td>\n",
              "      <td>1966</td>\n",
              "      <td>6.211</td>\n",
              "      <td>56.80320</td>\n",
              "      <td>727601056.0</td>\n",
              "      <td>120.80</td>\n",
              "      <td>826.0</td>\n",
              "      <td>East Asia &amp; Pacific</td>\n",
              "    </tr>\n",
              "    <tr>\n",
              "      <th>3</th>\n",
              "      <td>China</td>\n",
              "      <td>1967</td>\n",
              "      <td>5.252</td>\n",
              "      <td>58.38112</td>\n",
              "      <td>747678772.0</td>\n",
              "      <td>126.42</td>\n",
              "      <td>719.0</td>\n",
              "      <td>East Asia &amp; Pacific</td>\n",
              "    </tr>\n",
              "    <tr>\n",
              "      <th>4</th>\n",
              "      <td>China</td>\n",
              "      <td>1968</td>\n",
              "      <td>6.370</td>\n",
              "      <td>59.40520</td>\n",
              "      <td>769666505.0</td>\n",
              "      <td>132.30</td>\n",
              "      <td>669.0</td>\n",
              "      <td>East Asia &amp; Pacific</td>\n",
              "    </tr>\n",
              "  </tbody>\n",
              "</table>\n",
              "</div>\n",
              "      <button class=\"colab-df-convert\" onclick=\"convertToInteractive('df-169a2181-34dd-49f5-a8df-69d2b58754bb')\"\n",
              "              title=\"Convert this dataframe to an interactive table.\"\n",
              "              style=\"display:none;\">\n",
              "        \n",
              "  <svg xmlns=\"http://www.w3.org/2000/svg\" height=\"24px\"viewBox=\"0 0 24 24\"\n",
              "       width=\"24px\">\n",
              "    <path d=\"M0 0h24v24H0V0z\" fill=\"none\"/>\n",
              "    <path d=\"M18.56 5.44l.94 2.06.94-2.06 2.06-.94-2.06-.94-.94-2.06-.94 2.06-2.06.94zm-11 1L8.5 8.5l.94-2.06 2.06-.94-2.06-.94L8.5 2.5l-.94 2.06-2.06.94zm10 10l.94 2.06.94-2.06 2.06-.94-2.06-.94-.94-2.06-.94 2.06-2.06.94z\"/><path d=\"M17.41 7.96l-1.37-1.37c-.4-.4-.92-.59-1.43-.59-.52 0-1.04.2-1.43.59L10.3 9.45l-7.72 7.72c-.78.78-.78 2.05 0 2.83L4 21.41c.39.39.9.59 1.41.59.51 0 1.02-.2 1.41-.59l7.78-7.78 2.81-2.81c.8-.78.8-2.07 0-2.86zM5.41 20L4 18.59l7.72-7.72 1.47 1.35L5.41 20z\"/>\n",
              "  </svg>\n",
              "      </button>\n",
              "      \n",
              "  <style>\n",
              "    .colab-df-container {\n",
              "      display:flex;\n",
              "      flex-wrap:wrap;\n",
              "      gap: 12px;\n",
              "    }\n",
              "\n",
              "    .colab-df-convert {\n",
              "      background-color: #E8F0FE;\n",
              "      border: none;\n",
              "      border-radius: 50%;\n",
              "      cursor: pointer;\n",
              "      display: none;\n",
              "      fill: #1967D2;\n",
              "      height: 32px;\n",
              "      padding: 0 0 0 0;\n",
              "      width: 32px;\n",
              "    }\n",
              "\n",
              "    .colab-df-convert:hover {\n",
              "      background-color: #E2EBFA;\n",
              "      box-shadow: 0px 1px 2px rgba(60, 64, 67, 0.3), 0px 1px 3px 1px rgba(60, 64, 67, 0.15);\n",
              "      fill: #174EA6;\n",
              "    }\n",
              "\n",
              "    [theme=dark] .colab-df-convert {\n",
              "      background-color: #3B4455;\n",
              "      fill: #D2E3FC;\n",
              "    }\n",
              "\n",
              "    [theme=dark] .colab-df-convert:hover {\n",
              "      background-color: #434B5C;\n",
              "      box-shadow: 0px 1px 3px 1px rgba(0, 0, 0, 0.15);\n",
              "      filter: drop-shadow(0px 1px 2px rgba(0, 0, 0, 0.3));\n",
              "      fill: #FFFFFF;\n",
              "    }\n",
              "  </style>\n",
              "\n",
              "      <script>\n",
              "        const buttonEl =\n",
              "          document.querySelector('#df-169a2181-34dd-49f5-a8df-69d2b58754bb button.colab-df-convert');\n",
              "        buttonEl.style.display =\n",
              "          google.colab.kernel.accessAllowed ? 'block' : 'none';\n",
              "\n",
              "        async function convertToInteractive(key) {\n",
              "          const element = document.querySelector('#df-169a2181-34dd-49f5-a8df-69d2b58754bb');\n",
              "          const dataTable =\n",
              "            await google.colab.kernel.invokeFunction('convertToInteractive',\n",
              "                                                     [key], {});\n",
              "          if (!dataTable) return;\n",
              "\n",
              "          const docLinkHtml = 'Like what you see? Visit the ' +\n",
              "            '<a target=\"_blank\" href=https://colab.research.google.com/notebooks/data_table.ipynb>data table notebook</a>'\n",
              "            + ' to learn more about interactive tables.';\n",
              "          element.innerHTML = '';\n",
              "          dataTable['output_type'] = 'display_data';\n",
              "          await google.colab.output.renderOutput(dataTable, element);\n",
              "          const docLink = document.createElement('div');\n",
              "          docLink.innerHTML = docLinkHtml;\n",
              "          element.appendChild(docLink);\n",
              "        }\n",
              "      </script>\n",
              "    </div>\n",
              "  </div>\n",
              "  "
            ],
            "text/plain": [
              "  Country  Year  fertility  ...  child_mortality    gdp               region\n",
              "0   China  1964      6.120  ...           130.77  713.0  East Asia & Pacific\n",
              "1   China  1965      6.022  ...           115.43  772.0  East Asia & Pacific\n",
              "2   China  1966      6.211  ...           120.80  826.0  East Asia & Pacific\n",
              "3   China  1967      5.252  ...           126.42  719.0  East Asia & Pacific\n",
              "4   China  1968      6.370  ...           132.30  669.0  East Asia & Pacific\n",
              "\n",
              "[5 rows x 8 columns]"
            ]
          },
          "metadata": {},
          "execution_count": 31
        }
      ]
    },
    {
      "cell_type": "code",
      "source": [
        "def getting_series_plot(\n",
        "    x,y,axes,\n",
        "    xlabel, ylabel,\n",
        "    xticks_grid=0, color=None,\n",
        "    title=None, plot_label=None,\n",
        "    marker=None\n",
        "):\n",
        "    axes.plot(x,y, color=color, marker=marker,label=plot_label)\n",
        "    if xticks_grid>0:\n",
        "      axes.set_xticks(list(range(x.min(), x.max()+1, xticks_grid)))\n",
        "      axes.set_xlabel(xlabel)\n",
        "      axes.set_ylabel(ylabel)\n",
        "    if title:\n",
        "      axes.set_title(title)\n",
        "    if plot_label:\n",
        "      lines, labels = axes.get_legend_handles_labels()\n",
        "      axes.legend(lines, labels, loc='best')\n",
        "    return axes\n"
      ],
      "metadata": {
        "id": "-LbDxfMLCPNl"
      },
      "execution_count": 38,
      "outputs": []
    },
    {
      "cell_type": "code",
      "source": [
        "fig, ax = plt.subplots(figsize=(12,10))\n",
        "axes = getting_series_plot(\n",
        "    x=df_china['Year'],\n",
        "    y=df_china['fertility'],\n",
        "    axes=ax,\n",
        "    xlabel='Year', ylabel='TFR',\n",
        "    xticks_grid=6,\n",
        "    color='r',\n",
        "    plot_label='China',\n",
        "    title='Evolution of the total fertility rate (TFR) in China'\n",
        ")\n",
        "axes.annotate('Two-children policy', xy=[1970, 5.5], xytext=(1964,2), \n",
        "              arrowprops={'arrowstyle':'->', 'color':'green', 'linestyle':'--'})\n",
        "axes.annotate('One-child policy', xy=[1979, 2.8], xytext=(1982,4), \n",
        "              arrowprops={'arrowstyle':'->', 'color':'blue', 'linestyle':'--'})\n",
        "ax.grid(True)\n",
        "plt.show()"
      ],
      "metadata": {
        "colab": {
          "base_uri": "https://localhost:8080/",
          "height": 621
        },
        "id": "_N-WnGToD4Ak",
        "outputId": "2ddddbe0-a3ba-4966-b54c-f29b53027b4d"
      },
      "execution_count": 44,
      "outputs": [
        {
          "output_type": "display_data",
          "data": {
            "image/png": "[encoded data removed]",
            "text/plain": [
              "<Figure size 864x720 with 1 Axes>"
            ]
          },
          "metadata": {
            "needs_background": "light"
          }
        }
      ]
    },
    {
      "cell_type": "code",
      "source": [
        ""
      ],
      "metadata": {
        "id": "oIWzkAfeFkcR"
      },
      "execution_count": null,
      "outputs": []
    },
    {
      "cell_type": "markdown",
      "source": [
        "\n",
        "**Matplotlibrc File** - runtime configuration\n"
      ],
      "metadata": {
        "id": "KFKqIqpFOl6T"
      }
    },
    {
      "cell_type": "code",
      "source": [
        "print(plt.rcParams)"
      ],
      "metadata": {
        "colab": {
          "base_uri": "https://localhost:8080/"
        },
        "id": "E6yRHFXQSLWL",
        "outputId": "d5856499-2326-42d6-bfb6-4fe17bc36c79"
      },
      "execution_count": 47,
      "outputs": [
        {
          "output_type": "stream",
          "name": "stdout",
          "text": [
            "_internal.classic_mode: False\n",
            "agg.path.chunksize: 0\n",
            "animation.avconv_args: []\n",
            "animation.avconv_path: avconv\n",
            "animation.bitrate: -1\n",
            "animation.codec: h264\n",
            "animation.convert_args: []\n",
            "animation.convert_path: convert\n",
            "animation.embed_limit: 20.0\n",
            "animation.ffmpeg_args: []\n",
            "animation.ffmpeg_path: ffmpeg\n",
            "animation.frame_format: png\n",
            "animation.html: none\n",
            "animation.html_args: []\n",
            "animation.writer: ffmpeg\n",
            "axes.autolimit_mode: data\n",
            "axes.axisbelow: line\n",
            "axes.edgecolor: black\n",
            "axes.facecolor: white\n",
            "axes.formatter.limits: [-5, 6]\n",
            "axes.formatter.min_exponent: 0\n",
            "axes.formatter.offset_threshold: 4\n",
            "axes.formatter.use_locale: False\n",
            "axes.formatter.use_mathtext: False\n",
            "axes.formatter.useoffset: True\n",
            "axes.grid: False\n",
            "axes.grid.axis: both\n",
            "axes.grid.which: major\n",
            "axes.labelcolor: black\n",
            "axes.labelpad: 4.0\n",
            "axes.labelsize: medium\n",
            "axes.labelweight: normal\n",
            "axes.linewidth: 0.8\n",
            "axes.prop_cycle: cycler('color', ['#1f77b4', '#ff7f0e', '#2ca02c', '#d62728', '#9467bd', '#8c564b', '#e377c2', '#7f7f7f', '#bcbd22', '#17becf'])\n",
            "axes.spines.bottom: True\n",
            "axes.spines.left: True\n",
            "axes.spines.right: True\n",
            "axes.spines.top: True\n",
            "axes.titlecolor: auto\n",
            "axes.titlelocation: center\n",
            "axes.titlepad: 6.0\n",
            "axes.titlesize: large\n",
            "axes.titleweight: normal\n",
            "axes.unicode_minus: True\n",
            "axes.xmargin: 0.05\n",
            "axes.ymargin: 0.05\n",
            "axes3d.grid: True\n",
            "backend: module://ipykernel.pylab.backend_inline\n",
            "backend_fallback: True\n",
            "boxplot.bootstrap: None\n",
            "boxplot.boxprops.color: black\n",
            "boxplot.boxprops.linestyle: -\n",
            "boxplot.boxprops.linewidth: 1.0\n",
            "boxplot.capprops.color: black\n",
            "boxplot.capprops.linestyle: -\n",
            "boxplot.capprops.linewidth: 1.0\n",
            "boxplot.flierprops.color: black\n",
            "boxplot.flierprops.linestyle: none\n",
            "boxplot.flierprops.linewidth: 1.0\n",
            "boxplot.flierprops.marker: o\n",
            "boxplot.flierprops.markeredgecolor: black\n",
            "boxplot.flierprops.markeredgewidth: 1.0\n",
            "boxplot.flierprops.markerfacecolor: none\n",
            "boxplot.flierprops.markersize: 6.0\n",
            "boxplot.meanline: False\n",
            "boxplot.meanprops.color: C2\n",
            "boxplot.meanprops.linestyle: --\n",
            "boxplot.meanprops.linewidth: 1.0\n",
            "boxplot.meanprops.marker: ^\n",
            "boxplot.meanprops.markeredgecolor: C2\n",
            "boxplot.meanprops.markerfacecolor: C2\n",
            "boxplot.meanprops.markersize: 6.0\n",
            "boxplot.medianprops.color: C1\n",
            "boxplot.medianprops.linestyle: -\n",
            "boxplot.medianprops.linewidth: 1.0\n",
            "boxplot.notch: False\n",
            "boxplot.patchartist: False\n",
            "boxplot.showbox: True\n",
            "boxplot.showcaps: True\n",
            "boxplot.showfliers: True\n",
            "boxplot.showmeans: False\n",
            "boxplot.vertical: True\n",
            "boxplot.whiskerprops.color: black\n",
            "boxplot.whiskerprops.linestyle: -\n",
            "boxplot.whiskerprops.linewidth: 1.0\n",
            "boxplot.whiskers: 1.5\n",
            "contour.corner_mask: True\n",
            "contour.negative_linestyle: dashed\n",
            "datapath: /usr/local/lib/python3.7/dist-packages/matplotlib/mpl-data\n",
            "date.autoformatter.day: %Y-%m-%d\n",
            "date.autoformatter.hour: %m-%d %H\n",
            "date.autoformatter.microsecond: %M:%S.%f\n",
            "date.autoformatter.minute: %d %H:%M\n",
            "date.autoformatter.month: %Y-%m\n",
            "date.autoformatter.second: %H:%M:%S\n",
            "date.autoformatter.year: %Y\n",
            "docstring.hardcopy: False\n",
            "errorbar.capsize: 0.0\n",
            "figure.autolayout: False\n",
            "figure.constrained_layout.h_pad: 0.04167\n",
            "figure.constrained_layout.hspace: 0.02\n",
            "figure.constrained_layout.use: False\n",
            "figure.constrained_layout.w_pad: 0.04167\n",
            "figure.constrained_layout.wspace: 0.02\n",
            "figure.dpi: 72.0\n",
            "figure.edgecolor: (1, 1, 1, 0)\n",
            "figure.facecolor: (1, 1, 1, 0)\n",
            "figure.figsize: [6.0, 4.0]\n",
            "figure.frameon: True\n",
            "figure.max_open_warning: 20\n",
            "figure.subplot.bottom: 0.125\n",
            "figure.subplot.hspace: 0.2\n",
            "figure.subplot.left: 0.125\n",
            "figure.subplot.right: 0.9\n",
            "figure.subplot.top: 0.88\n",
            "figure.subplot.wspace: 0.2\n",
            "figure.titlesize: large\n",
            "figure.titleweight: normal\n",
            "font.cursive: ['Apple Chancery', 'Textile', 'Zapf Chancery', 'Sand', 'Script MT', 'Felipa', 'cursive']\n",
            "font.family: ['sans-serif']\n",
            "font.fantasy: ['Comic Neue', 'Comic Sans MS', 'Chicago', 'Charcoal', 'Impact', 'Western', 'Humor Sans', 'xkcd', 'fantasy']\n",
            "font.monospace: ['DejaVu Sans Mono', 'Bitstream Vera Sans Mono', 'Computer Modern Typewriter', 'Andale Mono', 'Nimbus Mono L', 'Courier New', 'Courier', 'Fixed', 'Terminal', 'monospace']\n",
            "font.sans-serif: ['DejaVu Sans', 'Bitstream Vera Sans', 'Computer Modern Sans Serif', 'Lucida Grande', 'Verdana', 'Geneva', 'Lucid', 'Arial', 'Helvetica', 'Avant Garde', 'sans-serif']\n",
            "font.serif: ['DejaVu Serif', 'Bitstream Vera Serif', 'Computer Modern Roman', 'New Century Schoolbook', 'Century Schoolbook L', 'Utopia', 'ITC Bookman', 'Bookman', 'Nimbus Roman No9 L', 'Times New Roman', 'Times', 'Palatino', 'Charter', 'serif']\n",
            "font.size: 10.0\n",
            "font.stretch: normal\n",
            "font.style: normal\n",
            "font.variant: normal\n",
            "font.weight: normal\n",
            "grid.alpha: 1.0\n",
            "grid.color: #b0b0b0\n",
            "grid.linestyle: -\n",
            "grid.linewidth: 0.8\n",
            "hatch.color: black\n",
            "hatch.linewidth: 1.0\n",
            "hist.bins: 10\n",
            "image.aspect: equal\n",
            "image.cmap: viridis\n",
            "image.composite_image: True\n",
            "image.interpolation: antialiased\n",
            "image.lut: 256\n",
            "image.origin: upper\n",
            "image.resample: True\n",
            "interactive: True\n",
            "keymap.all_axes: ['a']\n",
            "keymap.back: ['left', 'c', 'backspace', 'MouseButton.BACK']\n",
            "keymap.copy: ['ctrl+c', 'cmd+c']\n",
            "keymap.forward: ['right', 'v', 'MouseButton.FORWARD']\n",
            "keymap.fullscreen: ['f', 'ctrl+f']\n",
            "keymap.grid: ['g']\n",
            "keymap.grid_minor: ['G']\n",
            "keymap.help: ['f1']\n",
            "keymap.home: ['h', 'r', 'home']\n",
            "keymap.pan: ['p']\n",
            "keymap.quit: ['ctrl+w', 'cmd+w', 'q']\n",
            "keymap.quit_all: ['W', 'cmd+W', 'Q']\n",
            "keymap.save: ['s', 'ctrl+s']\n",
            "keymap.xscale: ['k', 'L']\n",
            "keymap.yscale: ['l']\n",
            "keymap.zoom: ['o']\n",
            "legend.borderaxespad: 0.5\n",
            "legend.borderpad: 0.4\n",
            "legend.columnspacing: 2.0\n",
            "legend.edgecolor: 0.8\n",
            "legend.facecolor: inherit\n",
            "legend.fancybox: True\n",
            "legend.fontsize: medium\n",
            "legend.framealpha: 0.8\n",
            "legend.frameon: True\n",
            "legend.handleheight: 0.7\n",
            "legend.handlelength: 2.0\n",
            "legend.handletextpad: 0.8\n",
            "legend.labelspacing: 0.5\n",
            "legend.loc: best\n",
            "legend.markerscale: 1.0\n",
            "legend.numpoints: 1\n",
            "legend.scatterpoints: 1\n",
            "legend.shadow: False\n",
            "legend.title_fontsize: None\n",
            "lines.antialiased: True\n",
            "lines.color: C0\n",
            "lines.dash_capstyle: butt\n",
            "lines.dash_joinstyle: round\n",
            "lines.dashdot_pattern: [6.4, 1.6, 1.0, 1.6]\n",
            "lines.dashed_pattern: [3.7, 1.6]\n",
            "lines.dotted_pattern: [1.0, 1.65]\n",
            "lines.linestyle: -\n",
            "lines.linewidth: 1.5\n",
            "lines.marker: None\n",
            "lines.markeredgecolor: auto\n",
            "lines.markeredgewidth: 1.0\n",
            "lines.markerfacecolor: auto\n",
            "lines.markersize: 6.0\n",
            "lines.scale_dashes: True\n",
            "lines.solid_capstyle: projecting\n",
            "lines.solid_joinstyle: round\n",
            "markers.fillstyle: full\n",
            "mathtext.bf: sans:bold\n",
            "mathtext.cal: cursive\n",
            "mathtext.default: it\n",
            "mathtext.fallback_to_cm: True\n",
            "mathtext.fontset: dejavusans\n",
            "mathtext.it: sans:italic\n",
            "mathtext.rm: sans\n",
            "mathtext.sf: sans\n",
            "mathtext.tt: monospace\n",
            "mpl_toolkits.legacy_colorbar: True\n",
            "patch.antialiased: True\n",
            "patch.edgecolor: black\n",
            "patch.facecolor: C0\n",
            "patch.force_edgecolor: False\n",
            "patch.linewidth: 1.0\n",
            "path.effects: []\n",
            "path.simplify: True\n",
            "path.simplify_threshold: 0.1111111111111111\n",
            "path.sketch: None\n",
            "path.snap: True\n",
            "pdf.compression: 6\n",
            "pdf.fonttype: 3\n",
            "pdf.inheritcolor: False\n",
            "pdf.use14corefonts: False\n",
            "pgf.preamble: \n",
            "pgf.rcfonts: True\n",
            "pgf.texsystem: xelatex\n",
            "polaraxes.grid: True\n",
            "ps.distiller.res: 6000\n",
            "ps.fonttype: 3\n",
            "ps.papersize: letter\n",
            "ps.useafm: False\n",
            "ps.usedistiller: None\n",
            "savefig.bbox: None\n",
            "savefig.directory: ~\n",
            "savefig.dpi: figure\n",
            "savefig.edgecolor: white\n",
            "savefig.facecolor: white\n",
            "savefig.format: png\n",
            "savefig.frameon: True\n",
            "savefig.jpeg_quality: 95\n",
            "savefig.orientation: portrait\n",
            "savefig.pad_inches: 0.1\n",
            "savefig.transparent: False\n",
            "scatter.edgecolors: face\n",
            "scatter.marker: o\n",
            "svg.fonttype: path\n",
            "svg.hashsalt: None\n",
            "svg.image_inline: True\n",
            "text.antialiased: True\n",
            "text.color: black\n",
            "text.hinting: auto\n",
            "text.hinting_factor: 8\n",
            "text.kerning_factor: 0\n",
            "text.latex.preamble: \n",
            "text.latex.preview: False\n",
            "text.latex.unicode: True\n",
            "text.usetex: False\n",
            "timezone: UTC\n",
            "tk.window_focus: False\n",
            "toolbar: toolbar2\n",
            "verbose.fileo: sys.stdout\n",
            "verbose.level: silent\n",
            "webagg.address: 127.0.0.1\n",
            "webagg.open_in_browser: True\n",
            "webagg.port: 8988\n",
            "webagg.port_retries: 50\n",
            "xtick.alignment: center\n",
            "xtick.bottom: True\n",
            "xtick.color: black\n",
            "xtick.direction: out\n",
            "xtick.labelbottom: True\n",
            "xtick.labelsize: medium\n",
            "xtick.labeltop: False\n",
            "xtick.major.bottom: True\n",
            "xtick.major.pad: 3.5\n",
            "xtick.major.size: 3.5\n",
            "xtick.major.top: True\n",
            "xtick.major.width: 0.8\n",
            "xtick.minor.bottom: True\n",
            "xtick.minor.pad: 3.4\n",
            "xtick.minor.size: 2.0\n",
            "xtick.minor.top: True\n",
            "xtick.minor.visible: False\n",
            "xtick.minor.width: 0.6\n",
            "xtick.top: False\n",
            "ytick.alignment: center_baseline\n",
            "ytick.color: black\n",
            "ytick.direction: out\n",
            "ytick.labelleft: True\n",
            "ytick.labelright: False\n",
            "ytick.labelsize: medium\n",
            "ytick.left: True\n",
            "ytick.major.left: True\n",
            "ytick.major.pad: 3.5\n",
            "ytick.major.right: True\n",
            "ytick.major.size: 3.5\n",
            "ytick.major.width: 0.8\n",
            "ytick.minor.left: True\n",
            "ytick.minor.pad: 3.4\n",
            "ytick.minor.right: True\n",
            "ytick.minor.size: 2.0\n",
            "ytick.minor.visible: False\n",
            "ytick.minor.width: 0.6\n",
            "ytick.right: False\n"
          ]
        }
      ]
    },
    {
      "cell_type": "code",
      "source": [
        "import matplotlib as mlb\n",
        "mlb.matplotlib_fname()"
      ],
      "metadata": {
        "colab": {
          "base_uri": "https://localhost:8080/",
          "height": 36
        },
        "id": "4ozoyu8pSSpF",
        "outputId": "65b16b8f-cf2c-4701-def6-6c7663f8facc"
      },
      "execution_count": 49,
      "outputs": [
        {
          "output_type": "execute_result",
          "data": {
            "application/vnd.google.colaboratory.intrinsic+json": {
              "type": "string"
            },
            "text/plain": [
              "'/usr/local/lib/python3.7/dist-packages/matplotlib/mpl-data/matplotlibrc'"
            ]
          },
          "metadata": {},
          "execution_count": 49
        }
      ]
    },
    {
      "cell_type": "code",
      "source": [
        "mlb.rcParams['lines.linewidth']=0.9\n",
        "mlb.rcParams['figure.figsize']=(6.4,4.8)"
      ],
      "metadata": {
        "id": "g-K8b3yKSeal"
      },
      "execution_count": 51,
      "outputs": []
    },
    {
      "cell_type": "code",
      "source": [
        "print(plt.style.available)"
      ],
      "metadata": {
        "colab": {
          "base_uri": "https://localhost:8080/"
        },
        "id": "DkLSrGD1THD6",
        "outputId": "9d1aa09a-a71c-4e3f-afac-f0e68fbcec1c"
      },
      "execution_count": 52,
      "outputs": [
        {
          "output_type": "stream",
          "name": "stdout",
          "text": [
            "['Solarize_Light2', '_classic_test_patch', 'bmh', 'classic', 'dark_background', 'fast', 'fivethirtyeight', 'ggplot', 'grayscale', 'seaborn', 'seaborn-bright', 'seaborn-colorblind', 'seaborn-dark', 'seaborn-dark-palette', 'seaborn-darkgrid', 'seaborn-deep', 'seaborn-muted', 'seaborn-notebook', 'seaborn-paper', 'seaborn-pastel', 'seaborn-poster', 'seaborn-talk', 'seaborn-ticks', 'seaborn-white', 'seaborn-whitegrid', 'tableau-colorblind10']\n"
          ]
        }
      ]
    },
    {
      "cell_type": "code",
      "source": [
        "plt.style.use('classic')"
      ],
      "metadata": {
        "id": "Mm5AxRE6TaG0"
      },
      "execution_count": 53,
      "outputs": []
    },
    {
      "cell_type": "code",
      "source": [
        "# To isolate chosen style\n",
        "with plt.style.context('seaborn'):\n",
        "  fig, ax = plt.subplots(figsize=(12,10))\n",
        "  axes = getting_series_plot(\n",
        "    x=df_china['Year'],\n",
        "    y=df_china['fertility'],\n",
        "    axes=ax,\n",
        "    xlabel='Year', ylabel='TFR',\n",
        "    xticks_grid=6,\n",
        "    color='r',\n",
        "    plot_label='China',\n",
        "    title='Evolution of the total fertility rate (TFR) in China'\n",
        "  )\n",
        "  axes.annotate('Two-children policy', xy=[1970, 5.5], xytext=(1964,2), \n",
        "              arrowprops={'arrowstyle':'->', 'color':'green', 'linestyle':'--'})\n",
        "  axes.annotate('One-child policy', xy=[1979, 2.8], xytext=(1982,4), \n",
        "              arrowprops={'arrowstyle':'->', 'color':'blue', 'linestyle':'--'})\n",
        "  ax.grid(True)\n",
        "  plt.show()"
      ],
      "metadata": {
        "colab": {
          "base_uri": "https://localhost:8080/",
          "height": 722
        },
        "id": "WNgJxRxFTu_p",
        "outputId": "0b966c0a-6dbd-4ef1-935e-c757d173a982"
      },
      "execution_count": 54,
      "outputs": [
        {
          "output_type": "display_data",
          "data": {
            "image/png": "[encoded data removed]",
            "text/plain": [
              "<Figure size 960x800 with 1 Axes>"
            ]
          },
          "metadata": {}
        }
      ]
    },
    {
      "cell_type": "code",
      "source": [
        ""
      ],
      "metadata": {
        "id": "lo-VerMQUigj"
      },
      "execution_count": null,
      "outputs": []
    },
    {
      "cell_type": "markdown",
      "source": [
        "**Saving plot as image**"
      ],
      "metadata": {
        "id": "AzlarwrWUyPV"
      }
    },
    {
      "cell_type": "code",
      "source": [
        "fig.savefig('my_plot.png')"
      ],
      "metadata": {
        "id": "YJWF_McjVPS6"
      },
      "execution_count": 55,
      "outputs": []
    }
  ]
}
